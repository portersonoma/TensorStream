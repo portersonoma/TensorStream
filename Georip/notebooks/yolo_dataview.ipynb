{
 "cells": [
  {
   "cell_type": "code",
   "execution_count": null,
   "metadata": {},
   "outputs": [],
   "source": [
    "# BLANK\n",
    "import pathlib\n",
    "from datetime import datetime\n",
    "import time\n",
    "\n",
    "import torch\n",
    "from torch import cuda\n",
    "\n",
    "import glob\n",
    "import json\n",
    "import os\n",
    "import shutil\n",
    "import sys\n",
    "import ast\n",
    "import random\n",
    "from pathlib import Path\n",
    "\n",
    "import numpy as np\n",
    "import pandas as pd\n",
    "import geopandas as gpd\n",
    "import skimage.io as io\n",
    "from shapely import Polygon\n",
    "from matplotlib import pyplot as plt\n",
    "from PIL import Image\n",
    "from torch import cuda\n",
    "import supervision as sv\n",
    "from ultralytics import YOLO\n",
    "from concurrent.futures import ThreadPoolExecutor, as_completed\n",
    "from tqdm.auto import tqdm, trange\n",
    "from importlib import reload\n",
    "\n",
    "# Clone georip repo here: https://www.github.com/joeletho/georip.git\n",
    "\n",
    "# Cloned repo directory\n",
    "sys.path.append(\"path/to/georip\")\n",
    "\n",
    "import georip\n"
   ]
  },
  {
   "cell_type": "code",
   "execution_count": null,
   "metadata": {},
   "outputs": [],
   "source": [
    "# BLANK\n",
    "print(sys.version)"
   ]
  },
  {
   "cell_type": "code",
   "execution_count": null,
   "metadata": {},
   "outputs": [],
   "source": [
    "# BLANK\n",
    "print(reload(georip))\n"
   ]
  },
  {
   "cell_type": "code",
   "execution_count": null,
   "metadata": {},
   "outputs": [],
   "source": [
    "# BLANK\n",
    "#\n",
    "has_gpu = cuda.is_available()\n",
    "\n",
    "device = torch.device('cuda' if has_gpu else 'cpu')\n",
    "print(device)\n",
    "if has_gpu:\n",
    "    print(cuda.get_device_name(0))"
   ]
  },
  {
   "cell_type": "code",
   "execution_count": null,
   "metadata": {
    "id": "glo7hYL73EVo"
   },
   "outputs": [],
   "source": [
    "# BLANK\n",
    "path_map = {}\n",
    "\n",
    "# Change this to your project path\n",
    "path_map['ROOT'] = Path(\"path/to/project/root\")\n",
    "\n",
    "path_map['PROJECT_NAME'] = 'GEORIP_YOLO'\n",
    "path_map['georip'] = path_map['ROOT'] / path_map[\"PROJECT_NAME\"]\n",
    "path_map['GEORIP_DS'] = path_map['georip'] / 'datasets'\n",
    "path_map['GEORIP_MODELS'] = path_map['georip'] / 'models'"
   ]
  },
  {
   "cell_type": "code",
   "execution_count": null,
   "metadata": {},
   "outputs": [],
   "source": [
    "# BLANK\n",
    "def make_directories(paths_map, verbose=True, exist_ok=False):\n",
    "    if verbose:\n",
    "        print(\"Creating directory structure\")\n",
    "    for name, path in paths_map.items():\n",
    "        if isinstance(path, Path):\n",
    "            if path.is_file():\n",
    "                paths_map[name] = path.resolve()\n",
    "            else:\n",
    "                path = path.resolve()\n",
    "                paths_map[name] = path\n",
    "                path.mkdir(parents=True, exist_ok=exist_ok)\n",
    "                if verbose:\n",
    "                    print('  ',path)\n",
    "    if verbose:\n",
    "        print(\"Complete\")\n",
    "\n",
    "def make_project_paths(root,*, verbose=True, exist_ok=False):    \n",
    "    paths = {'NDVI': Path(root, 'NDVI', 'NDVI Difference Rasters')}\n",
    "    paths['SHAPE_FILES'] = Path(root, 'Shapefiles')\n",
    "\n",
    "    paths['GEORIP_DS_META'] = path_map['GEORIP_DS'] / 'meta'\n",
    "    paths['GEORIP_DS_CSV'] = paths['GEORIP_DS_META'] / 'csv'\n",
    "    paths['GEORIP_DS_SHP'] = paths['GEORIP_DS_META'] / 'shp'\n",
    "    \n",
    "    # Data\n",
    "    paths['PRED_SHP'] = paths['SHAPE_FILES'] / 'ModelPredictions'\n",
    "    paths['SHPZ10_SHP'] = paths['SHAPE_FILES'] / 'Treatments_UTMz10_Only_08-18-24' / 'Treatments_UTMz10_Only_08-18-24.shp'\n",
    "    paths['SHPZ11_SHP'] = paths['SHAPE_FILES'] / 'Treatments_UTMz11_Only_08-18-24' / 'Treatments_UTMz11_Only_08-18-24.shp'\n",
    "    for name, path in paths.items():\n",
    "        path_map[name] = path\n",
    "    make_directories(paths, verbose=verbose, exist_ok=exist_ok)\n",
    "\n",
    "make_project_paths(path_map['ROOT'], exist_ok=True)"
   ]
  },
  {
   "cell_type": "code",
   "execution_count": null,
   "metadata": {},
   "outputs": [],
   "source": [
    "# BLANK\n",
    "DS = path_map['GEORIP_DS']\n",
    "\n",
    "total_updates = len(paths)*2 # train & val for each dataset\n",
    "root_pbar = trange(total_updates, desc=\"Drawing datasets\")\n",
    "updates = 0\n",
    "\n",
    "for path in paths:\n",
    "    print(path)\n",
    "    for ds_type in ['train','val']:\n",
    "        if path.name == 'meta':\n",
    "            continue\n",
    "        ds = georip.datasets.YOLODatasetLoader(\n",
    "            classes=['Treatment'],\n",
    "            images_dir=path / f'images/{ds_type}', \n",
    "            annotations_dir=path / f'labels/{ds_type}',\n",
    "        )\n",
    "        ds.draw(\n",
    "            save_dir=path / 'images/annotated', \n",
    "            show=True, \n",
    "            include_background=False,\n",
    "            verbose=False,\n",
    "            pbar=True,\n",
    "            pbar_desc=f\"{path.name} - {ds_type}\"\n",
    "        )\n",
    "        \n",
    "        root_pbar.update()\n",
    "        updates += 1\n",
    "\n",
    "if updates < total_updates:\n",
    "    root_pbar.update(total_updates - updates)\n",
    "root_pbar.close()\n",
    "                    "
   ]
  },
  {
   "cell_type": "code",
   "execution_count": null,
   "metadata": {},
   "outputs": [],
   "source": [
    "# "
   ]
  }
 ],
 "metadata": {
  "accelerator": "GPU",
  "colab": {
   "gpuType": "T4",
   "provenance": []
  },
  "kernelspec": {
   "display_name": "Python 3 (ipykernel)",
   "language": "python",
   "name": "python3"
  },
  "language_info": {
   "codemirror_mode": {
    "name": "ipython",
    "version": 3
   },
   "file_extension": ".py",
   "mimetype": "text/x-python",
   "name": "python",
   "nbconvert_exporter": "python",
   "pygments_lexer": "ipython3",
   "version": "3.10.12"
  }
 },
 "nbformat": 4,
 "nbformat_minor": 4
}
