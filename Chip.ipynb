{
 "cells": [
  {
   "cell_type": "code",
   "execution_count": 2,
   "id": "5e26b46a-7847-4bef-8e61-265b2d9e1c57",
   "metadata": {},
   "outputs": [
    {
     "name": "stdout",
     "output_type": "stream",
     "text": [
      "\n",
      "🧩 Processing: Bear_Creek_20250112\n"
     ]
    },
    {
     "name": "stderr",
     "output_type": "stream",
     "text": [
      "Tiling Bear_Creek_20250112: 100%|██████████████████████████████████████████████████████| 61/61 [17:33<00:00, 17.28s/it]\n"
     ]
    },
    {
     "name": "stdout",
     "output_type": "stream",
     "text": [
      "✅ Created 2928 tile+mask pairs for Bear_Creek_20250112\n",
      "\n",
      "🧩 Processing: Bear_Lane\n"
     ]
    },
    {
     "name": "stderr",
     "output_type": "stream",
     "text": [
      "Tiling Bear_Lane: 100%|████████████████████████████████████████████████████████████████| 22/22 [05:48<00:00, 15.86s/it]\n"
     ]
    },
    {
     "name": "stdout",
     "output_type": "stream",
     "text": [
      "✅ Created 572 tile+mask pairs for Bear_Lane\n",
      "\n",
      "🧩 Processing: Flight_2\n"
     ]
    },
    {
     "name": "stderr",
     "output_type": "stream",
     "text": [
      "Tiling Flight_2: 100%|█████████████████████████████████████████████████████████████████| 32/32 [12:02<00:00, 22.59s/it]\n"
     ]
    },
    {
     "name": "stdout",
     "output_type": "stream",
     "text": [
      "✅ Created 1408 tile+mask pairs for Flight_2\n",
      "\n",
      "🧩 Processing: Flight_2_25pct\n"
     ]
    },
    {
     "name": "stderr",
     "output_type": "stream",
     "text": [
      "Tiling Flight_2_25pct: 100%|███████████████████████████████████████████████████████████| 14/14 [01:54<00:00,  8.17s/it]\n"
     ]
    },
    {
     "name": "stdout",
     "output_type": "stream",
     "text": [
      "✅ Created 252 tile+mask pairs for Flight_2_25pct\n",
      "\n",
      "🧩 Processing: SFLBC\n"
     ]
    },
    {
     "name": "stderr",
     "output_type": "stream",
     "text": [
      "Tiling SFLBC: 100%|████████████████████████████████████████████████████████████████████| 38/38 [14:20<00:00, 22.65s/it]\n"
     ]
    },
    {
     "name": "stdout",
     "output_type": "stream",
     "text": [
      "✅ Created 2052 tile+mask pairs for SFLBC\n",
      "\n",
      "🧩 Processing: Sugar_Refugia_20241112\n"
     ]
    },
    {
     "name": "stderr",
     "output_type": "stream",
     "text": [
      "Tiling Sugar_Refugia_20241112: 100%|███████████████████████████████████████████████████| 30/30 [06:53<00:00, 13.78s/it]\n"
     ]
    },
    {
     "name": "stdout",
     "output_type": "stream",
     "text": [
      "✅ Created 780 tile+mask pairs for Sugar_Refugia_20241112\n",
      "\n",
      "🧩 Processing: Wildcat_Creek\n"
     ]
    },
    {
     "name": "stderr",
     "output_type": "stream",
     "text": [
      "Tiling Wildcat_Creek: 100%|████████████████████████████████████████████████████████████| 43/43 [07:19<00:00, 10.21s/it]\n"
     ]
    },
    {
     "name": "stdout",
     "output_type": "stream",
     "text": [
      "✅ Created 1505 tile+mask pairs for Wildcat_Creek\n"
     ]
    }
   ],
   "source": [
    "# -----------------------------------------------------------\n",
    "# 🧩 Step 1: Chip TIFFs and Rasterize Masks\n",
    "#\n",
    "# This step creates 1600x1600 image/mask tiles from each map set\n",
    "# - Uses 10% overlap (stride = 1440)\n",
    "# - Includes background-only tiles\n",
    "# - Rasterizes shapefile features to create mask chips\n",
    "# - Outputs tile metadata for later preview and reconstruction\n",
    "#\n",
    "# Outputs:\n",
    "# - /[Map Folder]/tiled/images/\n",
    "# - /[Map Folder]/tiled/masks/\n",
    "# - /[Map Folder]/tiled/tile_metadata.csv\n",
    "# - /[Map Folder]/tiled/raster_shape.txt\n",
    "# -----------------------------------------------------------\n",
    "\n",
    "import os\n",
    "import csv\n",
    "import numpy as np\n",
    "import rasterio\n",
    "from rasterio.features import rasterize\n",
    "from rasterio.windows import Window\n",
    "from shapely.geometry import box\n",
    "import geopandas as gpd\n",
    "import cv2\n",
    "from tqdm import tqdm\n",
    "\n",
    "# --- Configuration ---\n",
    "base_dir = \"C:/QGIS\"\n",
    "chip_size = 1600\n",
    "stride = 1440  # 10% overlap\n",
    "\n",
    "all_maps = [\n",
    "    \"Bear_Creek_20250112\",\n",
    "    \"Bear_Lane\",\n",
    "    \"Flight_2\",\n",
    "    \"Flight_2_25pct\",\n",
    "    \"SFLBC\",\n",
    "    \"Sugar_Refugia_20241112\",\n",
    "    \"Wildcat_Creek\"\n",
    "]\n",
    "\n",
    "# --- Main loop over all map sets ---\n",
    "for map_folder in all_maps:\n",
    "    print(f\"\\n🧩 Processing: {map_folder}\")\n",
    "    map_base = os.path.join(base_dir, map_folder)\n",
    "    tif_path = os.path.join(map_base, f\"{map_folder}.tiff\")\n",
    "    shp_path = os.path.join(map_base, f\"{map_folder}.shp\")\n",
    "\n",
    "    out_img_dir = os.path.join(map_base, \"tiled\", \"images\")\n",
    "    out_mask_dir = os.path.join(map_base, \"tiled\", \"masks\")\n",
    "    meta_csv = os.path.join(map_base, \"tiled\", \"tile_metadata.csv\")\n",
    "    shape_txt = os.path.join(map_base, \"tiled\", \"raster_shape.txt\")\n",
    "\n",
    "    # Create fresh output folders\n",
    "    os.makedirs(out_img_dir, exist_ok=True)\n",
    "    os.makedirs(out_mask_dir, exist_ok=True)\n",
    "\n",
    "    with rasterio.open(tif_path) as raster:\n",
    "        labels = gpd.read_file(shp_path)\n",
    "        if labels.crs != raster.crs:\n",
    "            labels = labels.to_crs(raster.crs)\n",
    "\n",
    "        # Save raster shape for stitching\n",
    "        with open(shape_txt, \"w\") as f:\n",
    "            f.write(f\"{raster.height},{raster.width}\")\n",
    "\n",
    "        with open(meta_csv, mode=\"w\", newline=\"\") as csvfile:\n",
    "            writer = csv.writer(csvfile)\n",
    "            writer.writerow([\"filename\", \"x\", \"y\", \"width\", \"height\"])  # Updated header\n",
    "\n",
    "            count = 0\n",
    "            for y in tqdm(range(0, raster.height - chip_size + 1, stride), desc=f\"Tiling {map_folder}\"):\n",
    "                for x in range(0, raster.width - chip_size + 1, stride):\n",
    "                    window = Window(x, y, chip_size, chip_size)\n",
    "                    transform = raster.window_transform(window)\n",
    "                    bounds = box(*rasterio.windows.bounds(window, raster.transform))\n",
    "\n",
    "                    intersecting = labels[labels.intersects(bounds)]\n",
    "\n",
    "                    # --- Save image tile ---\n",
    "                    image = raster.read([1, 2, 3], window=window)\n",
    "                    image = np.transpose(image, (1, 2, 0))\n",
    "                    img_filename = f\"chip_{count}.png\"\n",
    "                    cv2.imwrite(os.path.join(out_img_dir, img_filename), cv2.cvtColor(image, cv2.COLOR_RGB2BGR))\n",
    "\n",
    "                    # --- Save mask (empty if no features) ---\n",
    "                    if not intersecting.empty:\n",
    "                        shapes = [(geom, cid) for geom, cid in zip(intersecting.geometry, intersecting[\"class_id\"])]\n",
    "                        mask = rasterize(\n",
    "                            shapes,\n",
    "                            out_shape=(chip_size, chip_size),\n",
    "                            transform=transform,\n",
    "                            fill=0,\n",
    "                            dtype=np.uint8\n",
    "                        )\n",
    "                    else:\n",
    "                        mask = np.zeros((chip_size, chip_size), dtype=np.uint8)\n",
    "\n",
    "                    cv2.imwrite(os.path.join(out_mask_dir, img_filename), mask)\n",
    "\n",
    "                    # --- Record metadata ---\n",
    "                    writer.writerow([img_filename, x, y, chip_size, chip_size])\n",
    "                    count += 1\n",
    "\n",
    "    print(f\"✅ Created {count} tile+mask pairs for {map_folder}\")"
   ]
  },
  {
   "cell_type": "code",
   "execution_count": 1,
   "id": "123181b0-3436-432b-b206-e601b00a9e42",
   "metadata": {},
   "outputs": [
    {
     "name": "stdout",
     "output_type": "stream",
     "text": [
      "\n",
      "🧩 Converting: Bear_Creek_20250112\n"
     ]
    },
    {
     "name": "stderr",
     "output_type": "stream",
     "text": [
      "Bear_Creek_20250112 [train]: 100%|█████████████████████████████████████████████████| 2049/2049 [01:12<00:00, 28.34it/s]\n"
     ]
    },
    {
     "name": "stdout",
     "output_type": "stream",
     "text": [
      "✅ Bear_Creek_20250112 [train]: 2049 tiles processed (1341 background-only)\n"
     ]
    },
    {
     "name": "stderr",
     "output_type": "stream",
     "text": [
      "Bear_Creek_20250112 [val]: 100%|█████████████████████████████████████████████████████| 879/879 [00:30<00:00, 28.60it/s]\n"
     ]
    },
    {
     "name": "stdout",
     "output_type": "stream",
     "text": [
      "✅ Bear_Creek_20250112 [val]: 879 tiles processed (585 background-only)\n",
      "\n",
      "🧩 Converting: Bear_Lane\n"
     ]
    },
    {
     "name": "stderr",
     "output_type": "stream",
     "text": [
      "Bear_Lane [train]: 100%|█████████████████████████████████████████████████████████████| 400/400 [00:20<00:00, 19.29it/s]\n"
     ]
    },
    {
     "name": "stdout",
     "output_type": "stream",
     "text": [
      "✅ Bear_Lane [train]: 400 tiles processed (141 background-only)\n"
     ]
    },
    {
     "name": "stderr",
     "output_type": "stream",
     "text": [
      "Bear_Lane [val]: 100%|███████████████████████████████████████████████████████████████| 172/172 [00:09<00:00, 17.75it/s]\n"
     ]
    },
    {
     "name": "stdout",
     "output_type": "stream",
     "text": [
      "✅ Bear_Lane [val]: 172 tiles processed (53 background-only)\n",
      "\n",
      "🧩 Converting: Flight_2\n"
     ]
    },
    {
     "name": "stderr",
     "output_type": "stream",
     "text": [
      "Flight_2 [train]: 100%|██████████████████████████████████████████████████████████████| 985/985 [00:51<00:00, 19.29it/s]\n"
     ]
    },
    {
     "name": "stdout",
     "output_type": "stream",
     "text": [
      "✅ Flight_2 [train]: 985 tiles processed (387 background-only)\n"
     ]
    },
    {
     "name": "stderr",
     "output_type": "stream",
     "text": [
      "Flight_2 [val]: 100%|████████████████████████████████████████████████████████████████| 423/423 [00:21<00:00, 19.25it/s]\n"
     ]
    },
    {
     "name": "stdout",
     "output_type": "stream",
     "text": [
      "✅ Flight_2 [val]: 423 tiles processed (169 background-only)\n",
      "\n",
      "🧩 Converting: Flight_2_25pct\n"
     ]
    },
    {
     "name": "stderr",
     "output_type": "stream",
     "text": [
      "Flight_2_25pct [train]: 100%|████████████████████████████████████████████████████████| 176/176 [00:07<00:00, 24.32it/s]\n"
     ]
    },
    {
     "name": "stdout",
     "output_type": "stream",
     "text": [
      "✅ Flight_2_25pct [train]: 176 tiles processed (105 background-only)\n"
     ]
    },
    {
     "name": "stderr",
     "output_type": "stream",
     "text": [
      "Flight_2_25pct [val]: 100%|████████████████████████████████████████████████████████████| 76/76 [00:03<00:00, 22.38it/s]\n"
     ]
    },
    {
     "name": "stdout",
     "output_type": "stream",
     "text": [
      "✅ Flight_2_25pct [val]: 76 tiles processed (40 background-only)\n",
      "\n",
      "🧩 Converting: SFLBC\n"
     ]
    },
    {
     "name": "stderr",
     "output_type": "stream",
     "text": [
      "SFLBC [train]: 100%|███████████████████████████████████████████████████████████████| 1436/1436 [01:01<00:00, 23.27it/s]\n"
     ]
    },
    {
     "name": "stdout",
     "output_type": "stream",
     "text": [
      "✅ SFLBC [train]: 1436 tiles processed (699 background-only)\n"
     ]
    },
    {
     "name": "stderr",
     "output_type": "stream",
     "text": [
      "SFLBC [val]: 100%|███████████████████████████████████████████████████████████████████| 616/616 [00:27<00:00, 22.62it/s]\n"
     ]
    },
    {
     "name": "stdout",
     "output_type": "stream",
     "text": [
      "✅ SFLBC [val]: 616 tiles processed (302 background-only)\n",
      "\n",
      "🧩 Converting: Sugar_Refugia_20241112\n"
     ]
    },
    {
     "name": "stderr",
     "output_type": "stream",
     "text": [
      "Sugar_Refugia_20241112 [train]: 100%|████████████████████████████████████████████████| 546/546 [00:25<00:00, 21.62it/s]\n"
     ]
    },
    {
     "name": "stdout",
     "output_type": "stream",
     "text": [
      "✅ Sugar_Refugia_20241112 [train]: 546 tiles processed (232 background-only)\n"
     ]
    },
    {
     "name": "stderr",
     "output_type": "stream",
     "text": [
      "Sugar_Refugia_20241112 [val]: 100%|██████████████████████████████████████████████████| 234/234 [00:10<00:00, 22.01it/s]\n"
     ]
    },
    {
     "name": "stdout",
     "output_type": "stream",
     "text": [
      "✅ Sugar_Refugia_20241112 [val]: 234 tiles processed (108 background-only)\n",
      "\n",
      "🧩 Converting: Wildcat_Creek\n"
     ]
    },
    {
     "name": "stderr",
     "output_type": "stream",
     "text": [
      "Wildcat_Creek [train]: 100%|███████████████████████████████████████████████████████| 1053/1053 [00:35<00:00, 29.44it/s]\n"
     ]
    },
    {
     "name": "stdout",
     "output_type": "stream",
     "text": [
      "✅ Wildcat_Creek [train]: 1053 tiles processed (803 background-only)\n"
     ]
    },
    {
     "name": "stderr",
     "output_type": "stream",
     "text": [
      "Wildcat_Creek [val]: 100%|███████████████████████████████████████████████████████████| 452/452 [00:15<00:00, 29.81it/s]"
     ]
    },
    {
     "name": "stdout",
     "output_type": "stream",
     "text": [
      "✅ Wildcat_Creek [val]: 452 tiles processed (346 background-only)\n"
     ]
    },
    {
     "name": "stderr",
     "output_type": "stream",
     "text": [
      "\n"
     ]
    }
   ],
   "source": [
    "# -----------------------------------------------------------\n",
    "# ⚡ Step 2: Convert Mask Tiles to YOLOv8 Polygon Labels\n",
    "#\n",
    "# This step converts rasterized mask tiles into YOLOv8-style\n",
    "# polygon .txt labels, enabling training with segmentation models.\n",
    "#\n",
    "# For each map folder:\n",
    "# - Loads corresponding image and mask tiles\n",
    "# - Resizes both to 640×640 (matching YOLOv8 input size)\n",
    "# - Extracts external contours for each class in the mask\n",
    "# - Writes polygons in YOLO format:\n",
    "#     • class_id x1 y1 x2 y2 ... xn yn (normalized coordinates)\n",
    "#\n",
    "# Enhancements:\n",
    "# - Runs in parallel using multithreading for speed\n",
    "# - Background-only tiles are preserved with empty label files\n",
    "# - Automatically splits 70/30 into train and val subsets\n",
    "#\n",
    "# Input:\n",
    "# - /[map]/tiled/images/      ← RGB tiles\n",
    "# - /[map]/tiled/masks/       ← Grayscale masks (class IDs)\n",
    "#\n",
    "# Output:\n",
    "# - /[map]/yolo_dataset_640/images/train/val/\n",
    "# - /[map]/yolo_dataset_640/labels/train/val/\n",
    "#\n",
    "# Notes:\n",
    "# - Supports 3-class masks: 0 = Water, 1 = Road, 2 = PVeg\n",
    "# - No remapping is needed if classes are already 0-based\n",
    "# - This format is compatible with YOLOv8-seg training\n",
    "# -----------------------------------------------------------\n",
    "\n",
    "import os\n",
    "import cv2\n",
    "import numpy as np\n",
    "import random\n",
    "from tqdm import tqdm\n",
    "from concurrent.futures import ThreadPoolExecutor, as_completed\n",
    "\n",
    "# --- Configuration ---\n",
    "base_dir = \"C:/QGIS\"\n",
    "target_size = 640\n",
    "num_threads = 8\n",
    "\n",
    "all_maps = [\n",
    "    \"Bear_Creek_20250112\",\n",
    "    \"Bear_Lane\",\n",
    "    \"Flight_2\",\n",
    "    \"Flight_2_25pct\",\n",
    "    \"SFLBC\",\n",
    "    \"Sugar_Refugia_20241112\",\n",
    "    \"Wildcat_Creek\"\n",
    "]\n",
    "\n",
    "def mask_to_polygons(mask):\n",
    "    contours = {}\n",
    "    for cls_id in np.unique(mask):\n",
    "        if cls_id == 0:\n",
    "            continue\n",
    "        binary = (mask == cls_id).astype(np.uint8)\n",
    "        cnts, _ = cv2.findContours(binary, cv2.RETR_EXTERNAL, cv2.CHAIN_APPROX_SIMPLE)\n",
    "        if cnts:\n",
    "            contours[cls_id] = cnts\n",
    "    return contours\n",
    "\n",
    "def process_file(fname, img_input_dir, mask_input_dir, img_out, lbl_out):\n",
    "    img_path = os.path.join(img_input_dir, fname)\n",
    "    mask_path = os.path.join(mask_input_dir, fname)\n",
    "\n",
    "    try:\n",
    "        img = cv2.imread(img_path)\n",
    "        mask = cv2.imread(mask_path, cv2.IMREAD_GRAYSCALE)\n",
    "        if img is None or mask is None:\n",
    "            return False  # Skip bad data\n",
    "\n",
    "        img_resized = cv2.resize(img, (target_size, target_size), interpolation=cv2.INTER_AREA)\n",
    "        mask_resized = cv2.resize(mask, (target_size, target_size), interpolation=cv2.INTER_NEAREST)\n",
    "        cv2.imwrite(os.path.join(img_out, fname), img_resized)\n",
    "\n",
    "        label_path = os.path.join(lbl_out, fname.replace(\".png\", \".txt\"))\n",
    "        contours = mask_to_polygons(mask_resized)\n",
    "\n",
    "        if not contours:\n",
    "            open(label_path, \"w\").close()\n",
    "            return True  # Background-only tile\n",
    "\n",
    "        with open(label_path, \"w\") as f:\n",
    "            for cls_id, cnts in contours.items():\n",
    "                for cnt in cnts:\n",
    "                    if len(cnt) < 3:\n",
    "                        continue\n",
    "                    pts = cnt.reshape(-1, 2).astype(np.float32) / target_size\n",
    "                    coords = \" \".join(f\"{x:.6f} {y:.6f}\" for x, y in pts)\n",
    "                    f.write(f\"{cls_id} {coords}\\n\")\n",
    "\n",
    "        return False\n",
    "    except Exception as e:\n",
    "        print(f\"⚠️ Error processing {fname}: {e}\")\n",
    "        return False\n",
    "\n",
    "# --- Process each map ---\n",
    "for map_folder in all_maps:\n",
    "    print(f\"\\n🧩 Converting: {map_folder}\")\n",
    "\n",
    "    base_map_dir = os.path.join(base_dir, map_folder)\n",
    "    img_input_dir = os.path.join(base_map_dir, \"tiled\", \"images\")\n",
    "    mask_input_dir = os.path.join(base_map_dir, \"tiled\", \"masks\")\n",
    "    out_base = os.path.join(base_map_dir, \"yolo_dataset_640\")\n",
    "\n",
    "    out_dirs = {\n",
    "        \"train_img\": os.path.join(out_base, \"images\", \"train\"),\n",
    "        \"val_img\": os.path.join(out_base, \"images\", \"val\"),\n",
    "        \"train_lbl\": os.path.join(out_base, \"labels\", \"train\"),\n",
    "        \"val_lbl\": os.path.join(out_base, \"labels\", \"val\"),\n",
    "    }\n",
    "    for d in out_dirs.values():\n",
    "        os.makedirs(d, exist_ok=True)\n",
    "\n",
    "    chip_files = [f for f in os.listdir(img_input_dir) if f.endswith(\".png\")]\n",
    "    random.shuffle(chip_files)\n",
    "    split_idx = int(len(chip_files) * 0.7)\n",
    "    train_files = chip_files[:split_idx]\n",
    "    val_files = chip_files[split_idx:]\n",
    "\n",
    "    for mode, files in [(\"train\", train_files), (\"val\", val_files)]:\n",
    "        img_out = out_dirs[f\"{mode}_img\"]\n",
    "        lbl_out = out_dirs[f\"{mode}_lbl\"]\n",
    "        bg_count = 0\n",
    "\n",
    "        with ThreadPoolExecutor(max_workers=num_threads) as executor:\n",
    "            futures = [executor.submit(process_file, f, img_input_dir, mask_input_dir, img_out, lbl_out) for f in files]\n",
    "            for f in tqdm(as_completed(futures), total=len(futures), desc=f\"{map_folder} [{mode}]\"):\n",
    "                if f.result():\n",
    "                    bg_count += 1\n",
    "\n",
    "        print(f\"✅ {map_folder} [{mode}]: {len(files)} tiles processed ({bg_count} background-only)\")"
   ]
  },
  {
   "cell_type": "code",
   "execution_count": 2,
   "id": "92d6af75-7850-4ec9-be92-d615cecf3fc0",
   "metadata": {},
   "outputs": [
    {
     "name": "stderr",
     "output_type": "stream",
     "text": [
      "Merging sets: 100%|██████████████████████████████████████████████████████████████████████| 6/6 [03:12<00:00, 32.14s/it]"
     ]
    },
    {
     "name": "stdout",
     "output_type": "stream",
     "text": [
      "✅ Merged 7512 train / 1880 val tiles into: C:/QGIS\\dataset\n",
      "ℹ️ Held-out map: Flight_2_25pct\n"
     ]
    },
    {
     "name": "stderr",
     "output_type": "stream",
     "text": [
      "\n"
     ]
    }
   ],
   "source": [
    "# -----------------------------------------------------------\n",
    "# 📦 Unified YOLO Dataset Builder (Excludes Holdout Set)\n",
    "#\n",
    "# This script merges YOLO-formatted image and label tiles from\n",
    "# multiple map sets into a single unified dataset structure.\n",
    "#\n",
    "# Excludes holdout map: Flight_2_25pct\n",
    "# Output folders:\n",
    "# - dataset/images/train/\n",
    "# - dataset/images/val/\n",
    "# - dataset/labels/train/\n",
    "# - dataset/labels/val/\n",
    "# - dataset/manifests/train_files.txt and val_files.txt\n",
    "# -----------------------------------------------------------\n",
    "\n",
    "import os\n",
    "import shutil\n",
    "import random\n",
    "from tqdm import tqdm\n",
    "\n",
    "# --- Configuration ---\n",
    "base_dir = \"C:/QGIS\"\n",
    "dataset_dir = os.path.join(base_dir, \"dataset\")\n",
    "img_train_dir = os.path.join(dataset_dir, \"images\", \"train\")\n",
    "img_val_dir = os.path.join(dataset_dir, \"images\", \"val\")\n",
    "lbl_train_dir = os.path.join(dataset_dir, \"labels\", \"train\")\n",
    "lbl_val_dir = os.path.join(dataset_dir, \"labels\", \"val\")\n",
    "manifest_dir = os.path.join(dataset_dir, \"manifests\")\n",
    "train_split = 0.8\n",
    "\n",
    "holdout_set = \"Flight_2_25pct\"\n",
    "all_sets = [\n",
    "    \"Bear_Creek_20250112\", \"Bear_Lane\", \"Flight_2\",\n",
    "    \"SFLBC\", \"Sugar_Refugia_20241112\", \"Wildcat_Creek\"\n",
    "]  # Excludes holdout\n",
    "\n",
    "for d in [img_train_dir, img_val_dir, lbl_train_dir, lbl_val_dir, manifest_dir]:\n",
    "    os.makedirs(d, exist_ok=True)\n",
    "\n",
    "train_list, val_list = [], []\n",
    "\n",
    "# --- Merge sets ---\n",
    "for set_name in tqdm(all_sets, desc=\"Merging sets\"):\n",
    "    base_map_dir = os.path.join(base_dir, set_name)\n",
    "    img_base = os.path.join(base_map_dir, \"yolo_dataset_640\", \"images\")\n",
    "    lbl_base = os.path.join(base_map_dir, \"yolo_dataset_640\", \"labels\")\n",
    "\n",
    "    # Collect all labeled image paths\n",
    "    all_images = []\n",
    "    for split in [\"train\", \"val\"]:\n",
    "        img_dir = os.path.join(img_base, split)\n",
    "        lbl_dir = os.path.join(lbl_base, split)\n",
    "        if os.path.exists(img_dir):\n",
    "            for fname in os.listdir(img_dir):\n",
    "                if fname.endswith(\".png\"):\n",
    "                    all_images.append((os.path.join(img_dir, fname),\n",
    "                                       os.path.join(lbl_dir, fname.replace(\".png\", \".txt\"))))\n",
    "\n",
    "    random.shuffle(all_images)\n",
    "    split_idx = int(len(all_images) * train_split)\n",
    "    split_files = [(\"train\", all_images[:split_idx]), (\"val\", all_images[split_idx:])]\n",
    "\n",
    "    for mode, files in split_files:\n",
    "        img_out_dir = img_train_dir if mode == \"train\" else img_val_dir\n",
    "        lbl_out_dir = lbl_train_dir if mode == \"train\" else lbl_val_dir\n",
    "        manifest = train_list if mode == \"train\" else val_list\n",
    "\n",
    "        for img_path, lbl_path in files:\n",
    "            new_img_name = f\"{set_name}_{os.path.basename(img_path)}\"\n",
    "            new_lbl_name = new_img_name.replace(\".png\", \".txt\")\n",
    "\n",
    "            shutil.copy(img_path, os.path.join(img_out_dir, new_img_name))\n",
    "            if os.path.exists(lbl_path):\n",
    "                shutil.copy(lbl_path, os.path.join(lbl_out_dir, new_lbl_name))\n",
    "            else:\n",
    "                open(os.path.join(lbl_out_dir, new_lbl_name), \"w\").close()\n",
    "\n",
    "            manifest.append(f\"images/{mode}/{new_img_name}\")\n",
    "\n",
    "# --- Save manifest files ---\n",
    "with open(os.path.join(manifest_dir, \"train_files.txt\"), \"w\") as f:\n",
    "    f.write(\"\\n\".join(sorted(train_list)) + \"\\n\")\n",
    "\n",
    "with open(os.path.join(manifest_dir, \"val_files.txt\"), \"w\") as f:\n",
    "    f.write(\"\\n\".join(sorted(val_list)) + \"\\n\")\n",
    "\n",
    "print(f\"✅ Merged {len(train_list)} train / {len(val_list)} val tiles into: {dataset_dir}\")\n",
    "print(f\"ℹ️ Held-out map: {holdout_set}\")"
   ]
  },
  {
   "cell_type": "code",
   "execution_count": 1,
   "id": "51d75858-2881-4989-916b-81ad7edbdf04",
   "metadata": {
    "scrolled": true
   },
   "outputs": [
    {
     "name": "stdout",
     "output_type": "stream",
     "text": [
      "✅ data.yaml written to: C:/QGIS/dataset\\data.yaml\n",
      "New https://pypi.org/project/ultralytics/8.3.124 available  Update with 'pip install -U ultralytics'\n",
      "Ultralytics 8.3.111  Python-3.10.16 torch-1.12.1+cu113 CUDA:0 (NVIDIA GeForce RTX 4060 Laptop GPU, 8188MiB)\n",
      "WARNING  Upgrade to torch>=2.0.0 for deterministic training.\n",
      "\u001b[34m\u001b[1mengine\\trainer: \u001b[0mtask=segment, mode=train, model=yolov8n-seg.pt, data=C:/QGIS/dataset\\data.yaml, epochs=50, time=None, patience=5, batch=16, imgsz=640, save=True, save_period=-1, cache=True, device=cuda, workers=2, project=C:/QGIS/runs/segment/train, name=main_model8, exist_ok=False, pretrained=True, optimizer=auto, verbose=True, seed=0, deterministic=True, single_cls=False, rect=False, cos_lr=False, close_mosaic=10, resume=False, amp=True, fraction=1.0, profile=False, freeze=None, multi_scale=False, overlap_mask=True, mask_ratio=4, dropout=0.0, val=True, split=val, save_json=False, conf=None, iou=0.7, max_det=300, half=False, dnn=False, plots=False, source=None, vid_stride=1, stream_buffer=False, visualize=False, augment=False, agnostic_nms=False, classes=None, retina_masks=False, embed=None, show=False, save_frames=False, save_txt=False, save_conf=False, save_crop=False, show_labels=True, show_conf=True, show_boxes=True, line_width=None, format=torchscript, keras=False, optimize=False, int8=False, dynamic=False, simplify=True, opset=None, workspace=None, nms=False, lr0=0.01, lrf=0.01, momentum=0.937, weight_decay=0.0005, warmup_epochs=3.0, warmup_momentum=0.8, warmup_bias_lr=0.1, box=7.5, cls=0.5, dfl=1.5, pose=12.0, kobj=1.0, nbs=64, hsv_h=0.015, hsv_s=0.7, hsv_v=0.4, degrees=0.0, translate=0.1, scale=0.5, shear=0.0, perspective=0.0, flipud=0.0, fliplr=0.5, bgr=0.0, mosaic=1.0, mixup=0.0, copy_paste=0.0, copy_paste_mode=flip, auto_augment=randaugment, erasing=0.4, cfg=None, tracker=botsort.yaml, save_dir=C:\\QGIS\\runs\\segment\\train\\main_model8\n",
      "Overriding model.yaml nc=80 with nc=3\n",
      "\n",
      "                   from  n    params  module                                       arguments                     \n",
      "  0                  -1  1       464  ultralytics.nn.modules.conv.Conv             [3, 16, 3, 2]                 \n",
      "  1                  -1  1      4672  ultralytics.nn.modules.conv.Conv             [16, 32, 3, 2]                \n",
      "  2                  -1  1      7360  ultralytics.nn.modules.block.C2f             [32, 32, 1, True]             \n",
      "  3                  -1  1     18560  ultralytics.nn.modules.conv.Conv             [32, 64, 3, 2]                \n",
      "  4                  -1  2     49664  ultralytics.nn.modules.block.C2f             [64, 64, 2, True]             \n",
      "  5                  -1  1     73984  ultralytics.nn.modules.conv.Conv             [64, 128, 3, 2]               \n",
      "  6                  -1  2    197632  ultralytics.nn.modules.block.C2f             [128, 128, 2, True]           \n",
      "  7                  -1  1    295424  ultralytics.nn.modules.conv.Conv             [128, 256, 3, 2]              \n",
      "  8                  -1  1    460288  ultralytics.nn.modules.block.C2f             [256, 256, 1, True]           \n",
      "  9                  -1  1    164608  ultralytics.nn.modules.block.SPPF            [256, 256, 5]                 \n",
      " 10                  -1  1         0  torch.nn.modules.upsampling.Upsample         [None, 2, 'nearest']          \n",
      " 11             [-1, 6]  1         0  ultralytics.nn.modules.conv.Concat           [1]                           \n",
      " 12                  -1  1    148224  ultralytics.nn.modules.block.C2f             [384, 128, 1]                 \n",
      " 13                  -1  1         0  torch.nn.modules.upsampling.Upsample         [None, 2, 'nearest']          \n",
      " 14             [-1, 4]  1         0  ultralytics.nn.modules.conv.Concat           [1]                           \n",
      " 15                  -1  1     37248  ultralytics.nn.modules.block.C2f             [192, 64, 1]                  \n",
      " 16                  -1  1     36992  ultralytics.nn.modules.conv.Conv             [64, 64, 3, 2]                \n",
      " 17            [-1, 12]  1         0  ultralytics.nn.modules.conv.Concat           [1]                           \n",
      " 18                  -1  1    123648  ultralytics.nn.modules.block.C2f             [192, 128, 1]                 \n",
      " 19                  -1  1    147712  ultralytics.nn.modules.conv.Conv             [128, 128, 3, 2]              \n",
      " 20             [-1, 9]  1         0  ultralytics.nn.modules.conv.Concat           [1]                           \n",
      " 21                  -1  1    493056  ultralytics.nn.modules.block.C2f             [384, 256, 1]                 \n",
      " 22        [15, 18, 21]  1   1004665  ultralytics.nn.modules.head.Segment          [3, 32, 64, [64, 128, 256]]   \n",
      "YOLOv8n-seg summary: 151 layers, 3,264,201 parameters, 3,264,185 gradients, 12.1 GFLOPs\n",
      "\n",
      "Transferred 381/417 items from pretrained weights\n",
      "Freezing layer 'model.22.dfl.conv.weight'\n",
      "\u001b[34m\u001b[1mAMP: \u001b[0mrunning Automatic Mixed Precision (AMP) checks...\n",
      "\u001b[34m\u001b[1mAMP: \u001b[0mchecks passed \n",
      "\u001b[34m\u001b[1mtrain: \u001b[0mFast image access  (ping: 0.50.2 ms, read: 21.245.6 MB/s, size: 164.9 KB)\n"
     ]
    },
    {
     "name": "stderr",
     "output_type": "stream",
     "text": [
      "\u001b[34m\u001b[1mtrain: \u001b[0mScanning C:\\QGIS\\dataset\\labels\\train.cache... 6770 images, 4205 backgrounds, 0 corrupt: 100%|██████████| 6770/6\u001b[0m\n"
     ]
    },
    {
     "name": "stdout",
     "output_type": "stream",
     "text": [
      "WARNING  cache='ram' may produce non-deterministic training results. Consider cache='disk' as a deterministic alternative if your disk space allows.\n"
     ]
    },
    {
     "name": "stderr",
     "output_type": "stream",
     "text": [
      "\u001b[34m\u001b[1mtrain: \u001b[0mCaching images (7.7GB RAM): 100%|██████████| 6770/6770 [00:27<00:00, 248.50it/s]\u001b[0m\n"
     ]
    },
    {
     "name": "stdout",
     "output_type": "stream",
     "text": [
      "\u001b[34m\u001b[1mval: \u001b[0mFast image access  (ping: 0.30.1 ms, read: 155.2209.9 MB/s, size: 338.2 KB)\n"
     ]
    },
    {
     "name": "stderr",
     "output_type": "stream",
     "text": [
      "\u001b[34m\u001b[1mval: \u001b[0mScanning C:\\QGIS\\dataset\\labels\\val.cache... 3077 images, 1808 backgrounds, 0 corrupt: 100%|██████████| 3077/3077 \u001b[0m\n"
     ]
    },
    {
     "name": "stdout",
     "output_type": "stream",
     "text": [
      "WARNING  cache='ram' may produce non-deterministic training results. Consider cache='disk' as a deterministic alternative if your disk space allows.\n"
     ]
    },
    {
     "name": "stderr",
     "output_type": "stream",
     "text": [
      "\u001b[34m\u001b[1mval: \u001b[0mCaching images (3.5GB RAM): 100%|██████████| 3077/3077 [00:13<00:00, 233.78it/s]\u001b[0m\n"
     ]
    },
    {
     "name": "stdout",
     "output_type": "stream",
     "text": [
      "\u001b[34m\u001b[1moptimizer:\u001b[0m 'optimizer=auto' found, ignoring 'lr0=0.01' and 'momentum=0.937' and determining best 'optimizer', 'lr0' and 'momentum' automatically... \n",
      "\u001b[34m\u001b[1moptimizer:\u001b[0m AdamW(lr=0.001429, momentum=0.9) with parameter groups 66 weight(decay=0.0), 77 weight(decay=0.0005), 76 bias(decay=0.0)\n",
      "Image sizes 640 train, 640 val\n",
      "Using 2 dataloader workers\n",
      "Logging results to \u001b[1mC:\\QGIS\\runs\\segment\\train\\main_model8\u001b[0m\n",
      "Starting training for 50 epochs...\n",
      "\n",
      "      Epoch    GPU_mem   box_loss   seg_loss   cls_loss   dfl_loss  Instances       Size\n"
     ]
    },
    {
     "name": "stderr",
     "output_type": "stream",
     "text": [
      "       1/50      3.01G      1.449      3.406      1.923      1.435         21        640: 100%|██████████| 424/424 [06:\n",
      "                 Class     Images  Instances      Box(P          R      mAP50  mAP50-95)     Mask(P          R      mAP\n"
     ]
    },
    {
     "name": "stdout",
     "output_type": "stream",
     "text": [
      "                   all       3077       9137      0.345      0.198      0.174     0.0911      0.331      0.171       0.14     0.0567\n",
      "\n",
      "      Epoch    GPU_mem   box_loss   seg_loss   cls_loss   dfl_loss  Instances       Size\n"
     ]
    },
    {
     "name": "stderr",
     "output_type": "stream",
     "text": [
      "       2/50      3.16G      1.284      2.959      1.328      1.315          6        640: 100%|██████████| 424/424 [05:\n",
      "                 Class     Images  Instances      Box(P          R      mAP50  mAP50-95)     Mask(P          R      mAP\n"
     ]
    },
    {
     "name": "stdout",
     "output_type": "stream",
     "text": [
      "                   all       3077       9137      0.298      0.261       0.19      0.106      0.294      0.243       0.18     0.0927\n",
      "\n",
      "      Epoch    GPU_mem   box_loss   seg_loss   cls_loss   dfl_loss  Instances       Size\n"
     ]
    },
    {
     "name": "stderr",
     "output_type": "stream",
     "text": [
      "       3/50      3.16G      1.189      2.829      1.133      1.251         17        640: 100%|██████████| 424/424 [05:\n",
      "                 Class     Images  Instances      Box(P          R      mAP50  mAP50-95)     Mask(P          R      mAP\n"
     ]
    },
    {
     "name": "stdout",
     "output_type": "stream",
     "text": [
      "                   all       3077       9137      0.301      0.211      0.173     0.0878      0.321       0.17      0.148     0.0639\n",
      "\n",
      "      Epoch    GPU_mem   box_loss   seg_loss   cls_loss   dfl_loss  Instances       Size\n"
     ]
    },
    {
     "name": "stderr",
     "output_type": "stream",
     "text": [
      "       4/50      3.16G      1.104      2.714      0.997      1.197         19        640: 100%|██████████| 424/424 [05:\n",
      "                 Class     Images  Instances      Box(P          R      mAP50  mAP50-95)     Mask(P          R      mAP\n"
     ]
    },
    {
     "name": "stdout",
     "output_type": "stream",
     "text": [
      "                   all       3077       9137      0.393      0.257      0.236      0.132      0.377      0.243      0.211      0.112\n",
      "\n",
      "      Epoch    GPU_mem   box_loss   seg_loss   cls_loss   dfl_loss  Instances       Size\n"
     ]
    },
    {
     "name": "stderr",
     "output_type": "stream",
     "text": [
      "       5/50      3.16G      1.019      2.598      0.892      1.147         18        640: 100%|██████████| 424/424 [04:\n",
      "                 Class     Images  Instances      Box(P          R      mAP50  mAP50-9\n"
     ]
    },
    {
     "name": "stdout",
     "output_type": "stream",
     "text": [
      "                   all       3077       9137       0.39      0.271      0.253      0.154      0.419      0.248      0.239      0.122\n",
      "\n",
      "      Epoch    GPU_mem   box_loss   seg_loss   cls_loss   dfl_loss  Instances       Size\n"
     ]
    },
    {
     "name": "stderr",
     "output_type": "stream",
     "text": [
      "       6/50      3.16G      0.952      2.509     0.8264      1.112         15        6\n",
      "                 Class     Images  Instances      Box(P          R      mAP50  mAP50-9\n"
     ]
    },
    {
     "name": "stdout",
     "output_type": "stream",
     "text": [
      "                   all       3077       9137       0.39      0.268      0.226      0.124      0.386      0.263       0.21      0.102\n",
      "\n",
      "      Epoch    GPU_mem   box_loss   seg_loss   cls_loss   dfl_loss  Instances       Size\n"
     ]
    },
    {
     "name": "stderr",
     "output_type": "stream",
     "text": [
      "       7/50      3.16G     0.9029      2.399     0.7708      1.086          8        6\n",
      "                 Class     Images  Instances      Box(P          R      mAP50  mAP50-9\n"
     ]
    },
    {
     "name": "stdout",
     "output_type": "stream",
     "text": [
      "                   all       3077       9137      0.426      0.279      0.274      0.173      0.417       0.26      0.248      0.119\n",
      "\n",
      "      Epoch    GPU_mem   box_loss   seg_loss   cls_loss   dfl_loss  Instances       Size\n"
     ]
    },
    {
     "name": "stderr",
     "output_type": "stream",
     "text": [
      "       8/50      3.16G     0.8693      2.353     0.7325      1.071        127        6\n"
     ]
    },
    {
     "ename": "KeyboardInterrupt",
     "evalue": "",
     "output_type": "error",
     "traceback": [
      "\u001b[1;31m---------------------------------------------------------------------------\u001b[0m",
      "\u001b[1;31mKeyboardInterrupt\u001b[0m                         Traceback (most recent call last)",
      "Cell \u001b[1;32mIn[1], line 31\u001b[0m\n\u001b[0;32m     28\u001b[0m \u001b[38;5;66;03m# --- Load model and train ---\u001b[39;00m\n\u001b[0;32m     29\u001b[0m model \u001b[38;5;241m=\u001b[39m YOLO(model_type)\n\u001b[1;32m---> 31\u001b[0m \u001b[43mmodel\u001b[49m\u001b[38;5;241;43m.\u001b[39;49m\u001b[43mtrain\u001b[49m\u001b[43m(\u001b[49m\n\u001b[0;32m     32\u001b[0m \u001b[43m    \u001b[49m\u001b[43mdata\u001b[49m\u001b[38;5;241;43m=\u001b[39;49m\u001b[43mdata_yaml\u001b[49m\u001b[43m,\u001b[49m\n\u001b[0;32m     33\u001b[0m \u001b[43m    \u001b[49m\u001b[43mimgsz\u001b[49m\u001b[38;5;241;43m=\u001b[39;49m\u001b[43mimg_size\u001b[49m\u001b[43m,\u001b[49m\n\u001b[0;32m     34\u001b[0m \u001b[43m    \u001b[49m\u001b[43mepochs\u001b[49m\u001b[38;5;241;43m=\u001b[39;49m\u001b[43mepochs\u001b[49m\u001b[43m,\u001b[49m\n\u001b[0;32m     35\u001b[0m \u001b[43m    \u001b[49m\u001b[43mbatch\u001b[49m\u001b[38;5;241;43m=\u001b[39;49m\u001b[38;5;241;43m16\u001b[39;49m\u001b[43m,\u001b[49m\n\u001b[0;32m     36\u001b[0m \u001b[43m    \u001b[49m\u001b[43mworkers\u001b[49m\u001b[38;5;241;43m=\u001b[39;49m\u001b[43mworkers\u001b[49m\u001b[43m,\u001b[49m\n\u001b[0;32m     37\u001b[0m \u001b[43m    \u001b[49m\u001b[43mamp\u001b[49m\u001b[38;5;241;43m=\u001b[39;49m\u001b[38;5;28;43;01mTrue\u001b[39;49;00m\u001b[43m,\u001b[49m\n\u001b[0;32m     38\u001b[0m \u001b[43m    \u001b[49m\u001b[43mpatience\u001b[49m\u001b[38;5;241;43m=\u001b[39;49m\u001b[38;5;241;43m5\u001b[39;49m\u001b[43m,\u001b[49m\n\u001b[0;32m     39\u001b[0m \u001b[43m    \u001b[49m\u001b[43mdevice\u001b[49m\u001b[38;5;241;43m=\u001b[39;49m\u001b[38;5;124;43m\"\u001b[39;49m\u001b[38;5;124;43mcuda\u001b[39;49m\u001b[38;5;124;43m\"\u001b[39;49m\u001b[43m,\u001b[49m\n\u001b[0;32m     40\u001b[0m \u001b[43m    \u001b[49m\u001b[43msave\u001b[49m\u001b[38;5;241;43m=\u001b[39;49m\u001b[38;5;28;43;01mTrue\u001b[39;49;00m\u001b[43m,\u001b[49m\n\u001b[0;32m     41\u001b[0m \u001b[43m    \u001b[49m\u001b[43msave_period\u001b[49m\u001b[38;5;241;43m=\u001b[39;49m\u001b[38;5;241;43m-\u001b[39;49m\u001b[38;5;241;43m1\u001b[39;49m\u001b[43m,\u001b[49m\u001b[43m         \u001b[49m\u001b[38;5;66;43;03m# Save only best + last\u001b[39;49;00m\n\u001b[0;32m     42\u001b[0m \u001b[43m    \u001b[49m\u001b[43mproject\u001b[49m\u001b[38;5;241;43m=\u001b[39;49m\u001b[43msave_dir\u001b[49m\u001b[43m,\u001b[49m\n\u001b[0;32m     43\u001b[0m \u001b[43m    \u001b[49m\u001b[43mname\u001b[49m\u001b[38;5;241;43m=\u001b[39;49m\u001b[38;5;124;43m\"\u001b[39;49m\u001b[38;5;124;43mmain_model\u001b[39;49m\u001b[38;5;124;43m\"\u001b[39;49m\u001b[43m,\u001b[49m\n\u001b[0;32m     44\u001b[0m \u001b[43m    \u001b[49m\u001b[43mverbose\u001b[49m\u001b[38;5;241;43m=\u001b[39;49m\u001b[38;5;28;43;01mTrue\u001b[39;49;00m\u001b[43m,\u001b[49m\n\u001b[0;32m     45\u001b[0m \u001b[43m    \u001b[49m\u001b[43mplots\u001b[49m\u001b[38;5;241;43m=\u001b[39;49m\u001b[38;5;28;43;01mFalse\u001b[39;49;00m\u001b[43m,\u001b[49m\n\u001b[0;32m     46\u001b[0m \u001b[43m    \u001b[49m\u001b[43mcache\u001b[49m\u001b[38;5;241;43m=\u001b[39;49m\u001b[38;5;28;43;01mTrue\u001b[39;49;00m\n\u001b[0;32m     47\u001b[0m \u001b[43m)\u001b[49m\n",
      "File \u001b[1;32m~\\anaconda3\\envs\\tflabsfall24\\lib\\site-packages\\ultralytics\\engine\\model.py:791\u001b[0m, in \u001b[0;36mModel.train\u001b[1;34m(self, trainer, **kwargs)\u001b[0m\n\u001b[0;32m    788\u001b[0m     \u001b[38;5;28mself\u001b[39m\u001b[38;5;241m.\u001b[39mmodel \u001b[38;5;241m=\u001b[39m \u001b[38;5;28mself\u001b[39m\u001b[38;5;241m.\u001b[39mtrainer\u001b[38;5;241m.\u001b[39mmodel\n\u001b[0;32m    790\u001b[0m \u001b[38;5;28mself\u001b[39m\u001b[38;5;241m.\u001b[39mtrainer\u001b[38;5;241m.\u001b[39mhub_session \u001b[38;5;241m=\u001b[39m \u001b[38;5;28mself\u001b[39m\u001b[38;5;241m.\u001b[39msession  \u001b[38;5;66;03m# attach optional HUB session\u001b[39;00m\n\u001b[1;32m--> 791\u001b[0m \u001b[38;5;28;43mself\u001b[39;49m\u001b[38;5;241;43m.\u001b[39;49m\u001b[43mtrainer\u001b[49m\u001b[38;5;241;43m.\u001b[39;49m\u001b[43mtrain\u001b[49m\u001b[43m(\u001b[49m\u001b[43m)\u001b[49m\n\u001b[0;32m    792\u001b[0m \u001b[38;5;66;03m# Update model and cfg after training\u001b[39;00m\n\u001b[0;32m    793\u001b[0m \u001b[38;5;28;01mif\u001b[39;00m RANK \u001b[38;5;129;01min\u001b[39;00m {\u001b[38;5;241m-\u001b[39m\u001b[38;5;241m1\u001b[39m, \u001b[38;5;241m0\u001b[39m}:\n",
      "File \u001b[1;32m~\\anaconda3\\envs\\tflabsfall24\\lib\\site-packages\\ultralytics\\engine\\trainer.py:211\u001b[0m, in \u001b[0;36mBaseTrainer.train\u001b[1;34m(self)\u001b[0m\n\u001b[0;32m    208\u001b[0m         ddp_cleanup(\u001b[38;5;28mself\u001b[39m, \u001b[38;5;28mstr\u001b[39m(file))\n\u001b[0;32m    210\u001b[0m \u001b[38;5;28;01melse\u001b[39;00m:\n\u001b[1;32m--> 211\u001b[0m     \u001b[38;5;28;43mself\u001b[39;49m\u001b[38;5;241;43m.\u001b[39;49m\u001b[43m_do_train\u001b[49m\u001b[43m(\u001b[49m\u001b[43mworld_size\u001b[49m\u001b[43m)\u001b[49m\n",
      "File \u001b[1;32m~\\anaconda3\\envs\\tflabsfall24\\lib\\site-packages\\ultralytics\\engine\\trainer.py:385\u001b[0m, in \u001b[0;36mBaseTrainer._do_train\u001b[1;34m(self, world_size)\u001b[0m\n\u001b[0;32m    383\u001b[0m \u001b[38;5;28;01mwith\u001b[39;00m autocast(\u001b[38;5;28mself\u001b[39m\u001b[38;5;241m.\u001b[39mamp):\n\u001b[0;32m    384\u001b[0m     batch \u001b[38;5;241m=\u001b[39m \u001b[38;5;28mself\u001b[39m\u001b[38;5;241m.\u001b[39mpreprocess_batch(batch)\n\u001b[1;32m--> 385\u001b[0m     loss, \u001b[38;5;28mself\u001b[39m\u001b[38;5;241m.\u001b[39mloss_items \u001b[38;5;241m=\u001b[39m \u001b[38;5;28;43mself\u001b[39;49m\u001b[38;5;241;43m.\u001b[39;49m\u001b[43mmodel\u001b[49m\u001b[43m(\u001b[49m\u001b[43mbatch\u001b[49m\u001b[43m)\u001b[49m\n\u001b[0;32m    386\u001b[0m     \u001b[38;5;28mself\u001b[39m\u001b[38;5;241m.\u001b[39mloss \u001b[38;5;241m=\u001b[39m loss\u001b[38;5;241m.\u001b[39msum()\n\u001b[0;32m    387\u001b[0m     \u001b[38;5;28;01mif\u001b[39;00m RANK \u001b[38;5;241m!=\u001b[39m \u001b[38;5;241m-\u001b[39m\u001b[38;5;241m1\u001b[39m:\n",
      "File \u001b[1;32m~\\anaconda3\\envs\\tflabsfall24\\lib\\site-packages\\torch\\nn\\modules\\module.py:1130\u001b[0m, in \u001b[0;36mModule._call_impl\u001b[1;34m(self, *input, **kwargs)\u001b[0m\n\u001b[0;32m   1126\u001b[0m \u001b[38;5;66;03m# If we don't have any hooks, we want to skip the rest of the logic in\u001b[39;00m\n\u001b[0;32m   1127\u001b[0m \u001b[38;5;66;03m# this function, and just call forward.\u001b[39;00m\n\u001b[0;32m   1128\u001b[0m \u001b[38;5;28;01mif\u001b[39;00m \u001b[38;5;129;01mnot\u001b[39;00m (\u001b[38;5;28mself\u001b[39m\u001b[38;5;241m.\u001b[39m_backward_hooks \u001b[38;5;129;01mor\u001b[39;00m \u001b[38;5;28mself\u001b[39m\u001b[38;5;241m.\u001b[39m_forward_hooks \u001b[38;5;129;01mor\u001b[39;00m \u001b[38;5;28mself\u001b[39m\u001b[38;5;241m.\u001b[39m_forward_pre_hooks \u001b[38;5;129;01mor\u001b[39;00m _global_backward_hooks\n\u001b[0;32m   1129\u001b[0m         \u001b[38;5;129;01mor\u001b[39;00m _global_forward_hooks \u001b[38;5;129;01mor\u001b[39;00m _global_forward_pre_hooks):\n\u001b[1;32m-> 1130\u001b[0m     \u001b[38;5;28;01mreturn\u001b[39;00m forward_call(\u001b[38;5;241m*\u001b[39m\u001b[38;5;28minput\u001b[39m, \u001b[38;5;241m*\u001b[39m\u001b[38;5;241m*\u001b[39mkwargs)\n\u001b[0;32m   1131\u001b[0m \u001b[38;5;66;03m# Do not call functions when jit is used\u001b[39;00m\n\u001b[0;32m   1132\u001b[0m full_backward_hooks, non_full_backward_hooks \u001b[38;5;241m=\u001b[39m [], []\n",
      "File \u001b[1;32m~\\anaconda3\\envs\\tflabsfall24\\lib\\site-packages\\ultralytics\\nn\\tasks.py:119\u001b[0m, in \u001b[0;36mBaseModel.forward\u001b[1;34m(self, x, *args, **kwargs)\u001b[0m\n\u001b[0;32m    105\u001b[0m \u001b[38;5;250m\u001b[39m\u001b[38;5;124;03m\"\"\"\u001b[39;00m\n\u001b[0;32m    106\u001b[0m \u001b[38;5;124;03mPerform forward pass of the model for either training or inference.\u001b[39;00m\n\u001b[0;32m    107\u001b[0m \n\u001b[1;32m   (...)\u001b[0m\n\u001b[0;32m    116\u001b[0m \u001b[38;5;124;03m    (torch.Tensor): Loss if x is a dict (training), or network predictions (inference).\u001b[39;00m\n\u001b[0;32m    117\u001b[0m \u001b[38;5;124;03m\"\"\"\u001b[39;00m\n\u001b[0;32m    118\u001b[0m \u001b[38;5;28;01mif\u001b[39;00m \u001b[38;5;28misinstance\u001b[39m(x, \u001b[38;5;28mdict\u001b[39m):  \u001b[38;5;66;03m# for cases of training and validating while training.\u001b[39;00m\n\u001b[1;32m--> 119\u001b[0m     \u001b[38;5;28;01mreturn\u001b[39;00m \u001b[38;5;28mself\u001b[39m\u001b[38;5;241m.\u001b[39mloss(x, \u001b[38;5;241m*\u001b[39margs, \u001b[38;5;241m*\u001b[39m\u001b[38;5;241m*\u001b[39mkwargs)\n\u001b[0;32m    120\u001b[0m \u001b[38;5;28;01mreturn\u001b[39;00m \u001b[38;5;28mself\u001b[39m\u001b[38;5;241m.\u001b[39mpredict(x, \u001b[38;5;241m*\u001b[39margs, \u001b[38;5;241m*\u001b[39m\u001b[38;5;241m*\u001b[39mkwargs)\n",
      "File \u001b[1;32m~\\anaconda3\\envs\\tflabsfall24\\lib\\site-packages\\ultralytics\\nn\\tasks.py:300\u001b[0m, in \u001b[0;36mBaseModel.loss\u001b[1;34m(self, batch, preds)\u001b[0m\n\u001b[0;32m    297\u001b[0m \u001b[38;5;28;01mif\u001b[39;00m \u001b[38;5;28mgetattr\u001b[39m(\u001b[38;5;28mself\u001b[39m, \u001b[38;5;124m\"\u001b[39m\u001b[38;5;124mcriterion\u001b[39m\u001b[38;5;124m\"\u001b[39m, \u001b[38;5;28;01mNone\u001b[39;00m) \u001b[38;5;129;01mis\u001b[39;00m \u001b[38;5;28;01mNone\u001b[39;00m:\n\u001b[0;32m    298\u001b[0m     \u001b[38;5;28mself\u001b[39m\u001b[38;5;241m.\u001b[39mcriterion \u001b[38;5;241m=\u001b[39m \u001b[38;5;28mself\u001b[39m\u001b[38;5;241m.\u001b[39minit_criterion()\n\u001b[1;32m--> 300\u001b[0m preds \u001b[38;5;241m=\u001b[39m \u001b[38;5;28;43mself\u001b[39;49m\u001b[38;5;241;43m.\u001b[39;49m\u001b[43mforward\u001b[49m\u001b[43m(\u001b[49m\u001b[43mbatch\u001b[49m\u001b[43m[\u001b[49m\u001b[38;5;124;43m\"\u001b[39;49m\u001b[38;5;124;43mimg\u001b[39;49m\u001b[38;5;124;43m\"\u001b[39;49m\u001b[43m]\u001b[49m\u001b[43m)\u001b[49m \u001b[38;5;28;01mif\u001b[39;00m preds \u001b[38;5;129;01mis\u001b[39;00m \u001b[38;5;28;01mNone\u001b[39;00m \u001b[38;5;28;01melse\u001b[39;00m preds\n\u001b[0;32m    301\u001b[0m \u001b[38;5;28;01mreturn\u001b[39;00m \u001b[38;5;28mself\u001b[39m\u001b[38;5;241m.\u001b[39mcriterion(preds, batch)\n",
      "File \u001b[1;32m~\\anaconda3\\envs\\tflabsfall24\\lib\\site-packages\\ultralytics\\nn\\tasks.py:120\u001b[0m, in \u001b[0;36mBaseModel.forward\u001b[1;34m(self, x, *args, **kwargs)\u001b[0m\n\u001b[0;32m    118\u001b[0m \u001b[38;5;28;01mif\u001b[39;00m \u001b[38;5;28misinstance\u001b[39m(x, \u001b[38;5;28mdict\u001b[39m):  \u001b[38;5;66;03m# for cases of training and validating while training.\u001b[39;00m\n\u001b[0;32m    119\u001b[0m     \u001b[38;5;28;01mreturn\u001b[39;00m \u001b[38;5;28mself\u001b[39m\u001b[38;5;241m.\u001b[39mloss(x, \u001b[38;5;241m*\u001b[39margs, \u001b[38;5;241m*\u001b[39m\u001b[38;5;241m*\u001b[39mkwargs)\n\u001b[1;32m--> 120\u001b[0m \u001b[38;5;28;01mreturn\u001b[39;00m \u001b[38;5;28mself\u001b[39m\u001b[38;5;241m.\u001b[39mpredict(x, \u001b[38;5;241m*\u001b[39margs, \u001b[38;5;241m*\u001b[39m\u001b[38;5;241m*\u001b[39mkwargs)\n",
      "File \u001b[1;32m~\\anaconda3\\envs\\tflabsfall24\\lib\\site-packages\\ultralytics\\nn\\tasks.py:138\u001b[0m, in \u001b[0;36mBaseModel.predict\u001b[1;34m(self, x, profile, visualize, augment, embed)\u001b[0m\n\u001b[0;32m    136\u001b[0m \u001b[38;5;28;01mif\u001b[39;00m augment:\n\u001b[0;32m    137\u001b[0m     \u001b[38;5;28;01mreturn\u001b[39;00m \u001b[38;5;28mself\u001b[39m\u001b[38;5;241m.\u001b[39m_predict_augment(x)\n\u001b[1;32m--> 138\u001b[0m \u001b[38;5;28;01mreturn\u001b[39;00m \u001b[38;5;28;43mself\u001b[39;49m\u001b[38;5;241;43m.\u001b[39;49m\u001b[43m_predict_once\u001b[49m\u001b[43m(\u001b[49m\u001b[43mx\u001b[49m\u001b[43m,\u001b[49m\u001b[43m \u001b[49m\u001b[43mprofile\u001b[49m\u001b[43m,\u001b[49m\u001b[43m \u001b[49m\u001b[43mvisualize\u001b[49m\u001b[43m,\u001b[49m\u001b[43m \u001b[49m\u001b[43membed\u001b[49m\u001b[43m)\u001b[49m\n",
      "File \u001b[1;32m~\\anaconda3\\envs\\tflabsfall24\\lib\\site-packages\\ultralytics\\nn\\tasks.py:159\u001b[0m, in \u001b[0;36mBaseModel._predict_once\u001b[1;34m(self, x, profile, visualize, embed)\u001b[0m\n\u001b[0;32m    157\u001b[0m \u001b[38;5;28;01mif\u001b[39;00m profile:\n\u001b[0;32m    158\u001b[0m     \u001b[38;5;28mself\u001b[39m\u001b[38;5;241m.\u001b[39m_profile_one_layer(m, x, dt)\n\u001b[1;32m--> 159\u001b[0m x \u001b[38;5;241m=\u001b[39m \u001b[43mm\u001b[49m\u001b[43m(\u001b[49m\u001b[43mx\u001b[49m\u001b[43m)\u001b[49m  \u001b[38;5;66;03m# run\u001b[39;00m\n\u001b[0;32m    160\u001b[0m y\u001b[38;5;241m.\u001b[39mappend(x \u001b[38;5;28;01mif\u001b[39;00m m\u001b[38;5;241m.\u001b[39mi \u001b[38;5;129;01min\u001b[39;00m \u001b[38;5;28mself\u001b[39m\u001b[38;5;241m.\u001b[39msave \u001b[38;5;28;01melse\u001b[39;00m \u001b[38;5;28;01mNone\u001b[39;00m)  \u001b[38;5;66;03m# save output\u001b[39;00m\n\u001b[0;32m    161\u001b[0m \u001b[38;5;28;01mif\u001b[39;00m visualize:\n",
      "File \u001b[1;32m~\\anaconda3\\envs\\tflabsfall24\\lib\\site-packages\\torch\\nn\\modules\\module.py:1130\u001b[0m, in \u001b[0;36mModule._call_impl\u001b[1;34m(self, *input, **kwargs)\u001b[0m\n\u001b[0;32m   1126\u001b[0m \u001b[38;5;66;03m# If we don't have any hooks, we want to skip the rest of the logic in\u001b[39;00m\n\u001b[0;32m   1127\u001b[0m \u001b[38;5;66;03m# this function, and just call forward.\u001b[39;00m\n\u001b[0;32m   1128\u001b[0m \u001b[38;5;28;01mif\u001b[39;00m \u001b[38;5;129;01mnot\u001b[39;00m (\u001b[38;5;28mself\u001b[39m\u001b[38;5;241m.\u001b[39m_backward_hooks \u001b[38;5;129;01mor\u001b[39;00m \u001b[38;5;28mself\u001b[39m\u001b[38;5;241m.\u001b[39m_forward_hooks \u001b[38;5;129;01mor\u001b[39;00m \u001b[38;5;28mself\u001b[39m\u001b[38;5;241m.\u001b[39m_forward_pre_hooks \u001b[38;5;129;01mor\u001b[39;00m _global_backward_hooks\n\u001b[0;32m   1129\u001b[0m         \u001b[38;5;129;01mor\u001b[39;00m _global_forward_hooks \u001b[38;5;129;01mor\u001b[39;00m _global_forward_pre_hooks):\n\u001b[1;32m-> 1130\u001b[0m     \u001b[38;5;28;01mreturn\u001b[39;00m forward_call(\u001b[38;5;241m*\u001b[39m\u001b[38;5;28minput\u001b[39m, \u001b[38;5;241m*\u001b[39m\u001b[38;5;241m*\u001b[39mkwargs)\n\u001b[0;32m   1131\u001b[0m \u001b[38;5;66;03m# Do not call functions when jit is used\u001b[39;00m\n\u001b[0;32m   1132\u001b[0m full_backward_hooks, non_full_backward_hooks \u001b[38;5;241m=\u001b[39m [], []\n",
      "File \u001b[1;32m~\\anaconda3\\envs\\tflabsfall24\\lib\\site-packages\\ultralytics\\nn\\modules\\block.py:300\u001b[0m, in \u001b[0;36mC2f.forward\u001b[1;34m(self, x)\u001b[0m\n\u001b[0;32m    298\u001b[0m \u001b[38;5;28;01mdef\u001b[39;00m\u001b[38;5;250m \u001b[39m\u001b[38;5;21mforward\u001b[39m(\u001b[38;5;28mself\u001b[39m, x):\n\u001b[0;32m    299\u001b[0m \u001b[38;5;250m    \u001b[39m\u001b[38;5;124;03m\"\"\"Forward pass through C2f layer.\"\"\"\u001b[39;00m\n\u001b[1;32m--> 300\u001b[0m     y \u001b[38;5;241m=\u001b[39m \u001b[38;5;28mlist\u001b[39m(\u001b[38;5;28;43mself\u001b[39;49m\u001b[38;5;241;43m.\u001b[39;49m\u001b[43mcv1\u001b[49m\u001b[43m(\u001b[49m\u001b[43mx\u001b[49m\u001b[43m)\u001b[49m\u001b[38;5;241m.\u001b[39mchunk(\u001b[38;5;241m2\u001b[39m, \u001b[38;5;241m1\u001b[39m))\n\u001b[0;32m    301\u001b[0m     y\u001b[38;5;241m.\u001b[39mextend(m(y[\u001b[38;5;241m-\u001b[39m\u001b[38;5;241m1\u001b[39m]) \u001b[38;5;28;01mfor\u001b[39;00m m \u001b[38;5;129;01min\u001b[39;00m \u001b[38;5;28mself\u001b[39m\u001b[38;5;241m.\u001b[39mm)\n\u001b[0;32m    302\u001b[0m     \u001b[38;5;28;01mreturn\u001b[39;00m \u001b[38;5;28mself\u001b[39m\u001b[38;5;241m.\u001b[39mcv2(torch\u001b[38;5;241m.\u001b[39mcat(y, \u001b[38;5;241m1\u001b[39m))\n",
      "File \u001b[1;32m~\\anaconda3\\envs\\tflabsfall24\\lib\\site-packages\\torch\\nn\\modules\\module.py:1130\u001b[0m, in \u001b[0;36mModule._call_impl\u001b[1;34m(self, *input, **kwargs)\u001b[0m\n\u001b[0;32m   1126\u001b[0m \u001b[38;5;66;03m# If we don't have any hooks, we want to skip the rest of the logic in\u001b[39;00m\n\u001b[0;32m   1127\u001b[0m \u001b[38;5;66;03m# this function, and just call forward.\u001b[39;00m\n\u001b[0;32m   1128\u001b[0m \u001b[38;5;28;01mif\u001b[39;00m \u001b[38;5;129;01mnot\u001b[39;00m (\u001b[38;5;28mself\u001b[39m\u001b[38;5;241m.\u001b[39m_backward_hooks \u001b[38;5;129;01mor\u001b[39;00m \u001b[38;5;28mself\u001b[39m\u001b[38;5;241m.\u001b[39m_forward_hooks \u001b[38;5;129;01mor\u001b[39;00m \u001b[38;5;28mself\u001b[39m\u001b[38;5;241m.\u001b[39m_forward_pre_hooks \u001b[38;5;129;01mor\u001b[39;00m _global_backward_hooks\n\u001b[0;32m   1129\u001b[0m         \u001b[38;5;129;01mor\u001b[39;00m _global_forward_hooks \u001b[38;5;129;01mor\u001b[39;00m _global_forward_pre_hooks):\n\u001b[1;32m-> 1130\u001b[0m     \u001b[38;5;28;01mreturn\u001b[39;00m forward_call(\u001b[38;5;241m*\u001b[39m\u001b[38;5;28minput\u001b[39m, \u001b[38;5;241m*\u001b[39m\u001b[38;5;241m*\u001b[39mkwargs)\n\u001b[0;32m   1131\u001b[0m \u001b[38;5;66;03m# Do not call functions when jit is used\u001b[39;00m\n\u001b[0;32m   1132\u001b[0m full_backward_hooks, non_full_backward_hooks \u001b[38;5;241m=\u001b[39m [], []\n",
      "File \u001b[1;32m~\\anaconda3\\envs\\tflabsfall24\\lib\\site-packages\\ultralytics\\nn\\modules\\conv.py:79\u001b[0m, in \u001b[0;36mConv.forward\u001b[1;34m(self, x)\u001b[0m\n\u001b[0;32m     69\u001b[0m \u001b[38;5;28;01mdef\u001b[39;00m\u001b[38;5;250m \u001b[39m\u001b[38;5;21mforward\u001b[39m(\u001b[38;5;28mself\u001b[39m, x):\n\u001b[0;32m     70\u001b[0m \u001b[38;5;250m    \u001b[39m\u001b[38;5;124;03m\"\"\"\u001b[39;00m\n\u001b[0;32m     71\u001b[0m \u001b[38;5;124;03m    Apply convolution, batch normalization and activation to input tensor.\u001b[39;00m\n\u001b[0;32m     72\u001b[0m \n\u001b[1;32m   (...)\u001b[0m\n\u001b[0;32m     77\u001b[0m \u001b[38;5;124;03m        (torch.Tensor): Output tensor.\u001b[39;00m\n\u001b[0;32m     78\u001b[0m \u001b[38;5;124;03m    \"\"\"\u001b[39;00m\n\u001b[1;32m---> 79\u001b[0m     \u001b[38;5;28;01mreturn\u001b[39;00m \u001b[38;5;28mself\u001b[39m\u001b[38;5;241m.\u001b[39mact(\u001b[38;5;28mself\u001b[39m\u001b[38;5;241m.\u001b[39mbn(\u001b[38;5;28;43mself\u001b[39;49m\u001b[38;5;241;43m.\u001b[39;49m\u001b[43mconv\u001b[49m\u001b[43m(\u001b[49m\u001b[43mx\u001b[49m\u001b[43m)\u001b[49m))\n",
      "File \u001b[1;32m~\\anaconda3\\envs\\tflabsfall24\\lib\\site-packages\\torch\\nn\\modules\\module.py:1130\u001b[0m, in \u001b[0;36mModule._call_impl\u001b[1;34m(self, *input, **kwargs)\u001b[0m\n\u001b[0;32m   1126\u001b[0m \u001b[38;5;66;03m# If we don't have any hooks, we want to skip the rest of the logic in\u001b[39;00m\n\u001b[0;32m   1127\u001b[0m \u001b[38;5;66;03m# this function, and just call forward.\u001b[39;00m\n\u001b[0;32m   1128\u001b[0m \u001b[38;5;28;01mif\u001b[39;00m \u001b[38;5;129;01mnot\u001b[39;00m (\u001b[38;5;28mself\u001b[39m\u001b[38;5;241m.\u001b[39m_backward_hooks \u001b[38;5;129;01mor\u001b[39;00m \u001b[38;5;28mself\u001b[39m\u001b[38;5;241m.\u001b[39m_forward_hooks \u001b[38;5;129;01mor\u001b[39;00m \u001b[38;5;28mself\u001b[39m\u001b[38;5;241m.\u001b[39m_forward_pre_hooks \u001b[38;5;129;01mor\u001b[39;00m _global_backward_hooks\n\u001b[0;32m   1129\u001b[0m         \u001b[38;5;129;01mor\u001b[39;00m _global_forward_hooks \u001b[38;5;129;01mor\u001b[39;00m _global_forward_pre_hooks):\n\u001b[1;32m-> 1130\u001b[0m     \u001b[38;5;28;01mreturn\u001b[39;00m forward_call(\u001b[38;5;241m*\u001b[39m\u001b[38;5;28minput\u001b[39m, \u001b[38;5;241m*\u001b[39m\u001b[38;5;241m*\u001b[39mkwargs)\n\u001b[0;32m   1131\u001b[0m \u001b[38;5;66;03m# Do not call functions when jit is used\u001b[39;00m\n\u001b[0;32m   1132\u001b[0m full_backward_hooks, non_full_backward_hooks \u001b[38;5;241m=\u001b[39m [], []\n",
      "File \u001b[1;32m~\\anaconda3\\envs\\tflabsfall24\\lib\\site-packages\\torch\\nn\\modules\\conv.py:457\u001b[0m, in \u001b[0;36mConv2d.forward\u001b[1;34m(self, input)\u001b[0m\n\u001b[0;32m    456\u001b[0m \u001b[38;5;28;01mdef\u001b[39;00m\u001b[38;5;250m \u001b[39m\u001b[38;5;21mforward\u001b[39m(\u001b[38;5;28mself\u001b[39m, \u001b[38;5;28minput\u001b[39m: Tensor) \u001b[38;5;241m-\u001b[39m\u001b[38;5;241m>\u001b[39m Tensor:\n\u001b[1;32m--> 457\u001b[0m     \u001b[38;5;28;01mreturn\u001b[39;00m \u001b[38;5;28;43mself\u001b[39;49m\u001b[38;5;241;43m.\u001b[39;49m\u001b[43m_conv_forward\u001b[49m\u001b[43m(\u001b[49m\u001b[38;5;28;43minput\u001b[39;49m\u001b[43m,\u001b[49m\u001b[43m \u001b[49m\u001b[38;5;28;43mself\u001b[39;49m\u001b[38;5;241;43m.\u001b[39;49m\u001b[43mweight\u001b[49m\u001b[43m,\u001b[49m\u001b[43m \u001b[49m\u001b[38;5;28;43mself\u001b[39;49m\u001b[38;5;241;43m.\u001b[39;49m\u001b[43mbias\u001b[49m\u001b[43m)\u001b[49m\n",
      "File \u001b[1;32m~\\anaconda3\\envs\\tflabsfall24\\lib\\site-packages\\torch\\nn\\modules\\conv.py:453\u001b[0m, in \u001b[0;36mConv2d._conv_forward\u001b[1;34m(self, input, weight, bias)\u001b[0m\n\u001b[0;32m    449\u001b[0m \u001b[38;5;28;01mif\u001b[39;00m \u001b[38;5;28mself\u001b[39m\u001b[38;5;241m.\u001b[39mpadding_mode \u001b[38;5;241m!=\u001b[39m \u001b[38;5;124m'\u001b[39m\u001b[38;5;124mzeros\u001b[39m\u001b[38;5;124m'\u001b[39m:\n\u001b[0;32m    450\u001b[0m     \u001b[38;5;28;01mreturn\u001b[39;00m F\u001b[38;5;241m.\u001b[39mconv2d(F\u001b[38;5;241m.\u001b[39mpad(\u001b[38;5;28minput\u001b[39m, \u001b[38;5;28mself\u001b[39m\u001b[38;5;241m.\u001b[39m_reversed_padding_repeated_twice, mode\u001b[38;5;241m=\u001b[39m\u001b[38;5;28mself\u001b[39m\u001b[38;5;241m.\u001b[39mpadding_mode),\n\u001b[0;32m    451\u001b[0m                     weight, bias, \u001b[38;5;28mself\u001b[39m\u001b[38;5;241m.\u001b[39mstride,\n\u001b[0;32m    452\u001b[0m                     _pair(\u001b[38;5;241m0\u001b[39m), \u001b[38;5;28mself\u001b[39m\u001b[38;5;241m.\u001b[39mdilation, \u001b[38;5;28mself\u001b[39m\u001b[38;5;241m.\u001b[39mgroups)\n\u001b[1;32m--> 453\u001b[0m \u001b[38;5;28;01mreturn\u001b[39;00m \u001b[43mF\u001b[49m\u001b[38;5;241;43m.\u001b[39;49m\u001b[43mconv2d\u001b[49m\u001b[43m(\u001b[49m\u001b[38;5;28;43minput\u001b[39;49m\u001b[43m,\u001b[49m\u001b[43m \u001b[49m\u001b[43mweight\u001b[49m\u001b[43m,\u001b[49m\u001b[43m \u001b[49m\u001b[43mbias\u001b[49m\u001b[43m,\u001b[49m\u001b[43m \u001b[49m\u001b[38;5;28;43mself\u001b[39;49m\u001b[38;5;241;43m.\u001b[39;49m\u001b[43mstride\u001b[49m\u001b[43m,\u001b[49m\n\u001b[0;32m    454\u001b[0m \u001b[43m                \u001b[49m\u001b[38;5;28;43mself\u001b[39;49m\u001b[38;5;241;43m.\u001b[39;49m\u001b[43mpadding\u001b[49m\u001b[43m,\u001b[49m\u001b[43m \u001b[49m\u001b[38;5;28;43mself\u001b[39;49m\u001b[38;5;241;43m.\u001b[39;49m\u001b[43mdilation\u001b[49m\u001b[43m,\u001b[49m\u001b[43m \u001b[49m\u001b[38;5;28;43mself\u001b[39;49m\u001b[38;5;241;43m.\u001b[39;49m\u001b[43mgroups\u001b[49m\u001b[43m)\u001b[49m\n",
      "\u001b[1;31mKeyboardInterrupt\u001b[0m: "
     ]
    }
   ],
   "source": [
    "# --- Training done in Train.py \n",
    "import os\n",
    "from ultralytics import YOLO\n",
    "import torch\n",
    "\n",
    "def main():\n",
    "    torch.cuda.empty_cache()\n",
    "\n",
    "    dataset_dir = \"C:/QGIS/dataset\"\n",
    "    model_type = \"yolov8s-seg.pt\"\n",
    "    img_size = 640\n",
    "    save_dir = \"C:/QGIS/runs/segment/train\"\n",
    "    class_names = [\"Water\", \"Road\", \"PVeg\"]\n",
    "\n",
    "    data_yaml = os.path.join(dataset_dir, \"data.yaml\")\n",
    "    with open(data_yaml, \"w\") as f:\n",
    "        f.write(f\"path: {dataset_dir}\\n\")\n",
    "        f.write(\"train: images/train\\n\")\n",
    "        f.write(\"val: images/val\\n\")\n",
    "        f.write(f\"nc: {len(class_names)}\\n\")\n",
    "        f.write(f\"names: {class_names}\\n\")\n",
    "\n",
    "    print(f\"✅ data.yaml written to: {data_yaml}\")\n",
    "\n",
    "    model = YOLO(model_type)\n",
    "    model.train(\n",
    "        data=data_yaml,\n",
    "        imgsz=img_size,\n",
    "        epochs=50,\n",
    "        batch=16,\n",
    "        workers=2,\n",
    "        amp=True,\n",
    "        patience=5,\n",
    "        device=\"cuda\",\n",
    "        save=True,\n",
    "        save_period=-1,\n",
    "        project=save_dir,\n",
    "        name=\"main_model\",\n",
    "        verbose=True,\n",
    "        plots=False,\n",
    "        cache=True\n",
    "    )\n",
    "\n",
    "if __name__ == \"__main__\":\n",
    "    main()\n"
   ]
  },
  {
   "cell_type": "code",
   "execution_count": null,
   "id": "b9d360cd-8075-4e5f-ba36-1b47253c6b65",
   "metadata": {},
   "outputs": [],
   "source": [
    "# Model Report"
   ]
  },
  {
   "cell_type": "code",
   "execution_count": 7,
   "id": "de2dd760-14d6-4078-b026-015fdb187779",
   "metadata": {},
   "outputs": [
    {
     "name": "stdout",
     "output_type": "stream",
     "text": [
      "✅ PDF report saved to: C:/QGIS/diagnostics/model_report.pdf\n"
     ]
    }
   ],
   "source": [
    "import os\n",
    "import pandas as pd\n",
    "import matplotlib.pyplot as plt\n",
    "import seaborn as sns\n",
    "from matplotlib.backends.backend_pdf import PdfPages\n",
    "\n",
    "# --- Paths ---\n",
    "results_path = \"C:/QGIS/runs/segment/train12/results.csv\"\n",
    "report_path = \"C:/QGIS/diagnostics/model_report.pdf\"\n",
    "os.makedirs(os.path.dirname(report_path), exist_ok=True)\n",
    "\n",
    "# --- Load results and clean columns ---\n",
    "df = pd.read_csv(results_path)\n",
    "df.columns = df.columns.str.strip()\n",
    "\n",
    "# --- Key epoch metrics ---\n",
    "final_epoch = df.iloc[-1]\n",
    "best_map_epoch = df[\"metrics/mAP50(B)\"].idxmax()\n",
    "best_row = df.iloc[best_map_epoch]\n",
    "\n",
    "# --- Basic training config (update if needed) ---\n",
    "training_config = {\n",
    "    \"Model\": \"YOLOv8n-seg\",\n",
    "    \"Input Size\": \"640x640\",\n",
    "    \"Epochs\": len(df),\n",
    "    \"Batch Size\": 8,\n",
    "    \"Optimizer\": \"SGD (default)\",\n",
    "    \"Confidence Threshold\": 0.1,\n",
    "    \"Tile Size\": \"1024x1024\",\n",
    "    \"Mask Source\": \"Polygon label → Raster mask via cv2.fillPoly\"\n",
    "}\n",
    "\n",
    "# --- Metrics to plot ---\n",
    "metrics = {\n",
    "    \"metrics/mAP50(B)\": \"mAP@0.5\",\n",
    "    \"metrics/mAP50-95(B)\": \"mAP@0.5–0.95\",\n",
    "    \"metrics/precision(B)\": \"Precision\",\n",
    "    \"metrics/recall(B)\": \"Recall\"\n",
    "}\n",
    "colors = [\"#1f77b4\", \"#ff7f0e\", \"#2ca02c\", \"#d62728\"]\n",
    "\n",
    "# --- Create PDF report ---\n",
    "with PdfPages(report_path) as pdf:\n",
    "    # Title + Summary page\n",
    "    plt.figure(figsize=(11, 8.5))\n",
    "    plt.text(0.5, 0.78, \"Model Performance Report\", ha=\"center\", fontsize=24)\n",
    "    plt.text(0.5, 0.70, \"Project: River and Road Segmentation\", ha=\"center\", fontsize=14)\n",
    "    plt.text(0.5, 0.63, f\"Best mAP@0.5: {best_row['metrics/mAP50(B)']:.3f} at epoch {best_map_epoch}\", ha=\"center\", fontsize=12)\n",
    "    plt.text(0.5, 0.57, f\"Final Epoch Precision: {final_epoch['metrics/precision(B)']:.3f}\", ha=\"center\", fontsize=12)\n",
    "    plt.text(0.5, 0.51, f\"Final Epoch Recall: {final_epoch['metrics/recall(B)']:.3f}\", ha=\"center\", fontsize=12)\n",
    "    plt.text(0.5, 0.45, \"Report generated from YOLOv8 results.csv\", ha=\"center\", fontsize=10)\n",
    "    plt.axis(\"off\")\n",
    "    pdf.savefig()\n",
    "    plt.close()\n",
    "\n",
    "    # Training configuration page\n",
    "    fig, ax = plt.subplots(figsize=(11, 4))\n",
    "    ax.axis(\"off\")\n",
    "    table_data = list(training_config.items())\n",
    "    table = ax.table(cellText=table_data, colLabels=[\"Parameter\", \"Value\"], loc=\"center\")\n",
    "    table.auto_set_font_size(False)\n",
    "    table.set_fontsize(11)\n",
    "    table.scale(1.2, 1.4)\n",
    "    plt.title(\"Training Configuration\", fontsize=14)\n",
    "    pdf.savefig()\n",
    "    plt.close()\n",
    "\n",
    "    # Metric plots\n",
    "    for i, (key, label) in enumerate(metrics.items()):\n",
    "        if key in df.columns:\n",
    "            plt.figure(figsize=(10, 4))\n",
    "            plt.plot(df[key], marker='o', linewidth=2, color=colors[i])\n",
    "            plt.title(f\"{label} Over Epochs\")\n",
    "            plt.xlabel(\"Epoch\")\n",
    "            plt.ylabel(label)\n",
    "            plt.grid(True)\n",
    "            plt.tight_layout()\n",
    "            pdf.savefig()\n",
    "            plt.close()\n",
    "\n",
    "    # Performance summary table\n",
    "    summary_data = {\n",
    "        \"Metric\": [\"mAP@0.5\", \"mAP@0.5–0.95\", \"Precision\", \"Recall\"],\n",
    "        \"Final Epoch\": [\n",
    "            f\"{final_epoch.get('metrics/mAP50(B)', 0):.3f}\",\n",
    "            f\"{final_epoch.get('metrics/mAP50-95(B)', 0):.3f}\",\n",
    "            f\"{final_epoch.get('metrics/precision(B)', 0):.3f}\",\n",
    "            f\"{final_epoch.get('metrics/recall(B)', 0):.3f}\"\n",
    "        ],\n",
    "        f\"Best Epoch ({best_map_epoch})\": [\n",
    "            f\"{best_row.get('metrics/mAP50(B)', 0):.3f}\",\n",
    "            f\"{best_row.get('metrics/mAP50-95(B)', 0):.3f}\",\n",
    "            f\"{best_row.get('metrics/precision(B)', 0):.3f}\",\n",
    "            f\"{best_row.get('metrics/recall(B)', 0):.3f}\"\n",
    "        ]\n",
    "    }\n",
    "    summary_df = pd.DataFrame(summary_data)\n",
    "    fig, ax = plt.subplots(figsize=(10, 2.5))\n",
    "    ax.axis(\"off\")\n",
    "    table = ax.table(cellText=summary_df.values, colLabels=summary_df.columns, loc=\"center\")\n",
    "    table.auto_set_font_size(False)\n",
    "    table.set_fontsize(12)\n",
    "    table.scale(1.2, 1.8)\n",
    "    plt.title(\"Summary of Model Performance\", fontsize=14)\n",
    "    pdf.savefig()\n",
    "    plt.close()\n",
    "\n",
    "print(f\"✅ PDF report saved to: {report_path}\")"
   ]
  },
  {
   "cell_type": "code",
   "execution_count": 3,
   "id": "19a6702c-6612-4a2d-8969-3a34a2585d87",
   "metadata": {
    "scrolled": true
   },
   "outputs": [
    {
     "name": "stdout",
     "output_type": "stream",
     "text": [
      "\n",
      "image 1/252 C:\\QGIS\\Flight_2_25pct\\tiled\\images\\chip_0.png: 640x640 (no detections), 122.0ms\n",
      "image 2/252 C:\\QGIS\\Flight_2_25pct\\tiled\\images\\chip_1.png: 640x640 (no detections), 81.3ms\n",
      "image 3/252 C:\\QGIS\\Flight_2_25pct\\tiled\\images\\chip_10.png: 640x640 (no detections), 70.2ms\n",
      "image 4/252 C:\\QGIS\\Flight_2_25pct\\tiled\\images\\chip_100.png: 640x640 205 PVegs, 74.5ms\n",
      "image 5/252 C:\\QGIS\\Flight_2_25pct\\tiled\\images\\chip_101.png: 640x640 250 PVegs, 80.9ms\n",
      "image 6/252 C:\\QGIS\\Flight_2_25pct\\tiled\\images\\chip_102.png: 640x640 300 PVegs, 107.7ms\n",
      "image 7/252 C:\\QGIS\\Flight_2_25pct\\tiled\\images\\chip_103.png: 640x640 234 PVegs, 67.1ms\n",
      "image 8/252 C:\\QGIS\\Flight_2_25pct\\tiled\\images\\chip_104.png: 640x640 80 PVegs, 88.6ms\n",
      "image 9/252 C:\\QGIS\\Flight_2_25pct\\tiled\\images\\chip_105.png: 640x640 (no detections), 74.7ms\n",
      "image 10/252 C:\\QGIS\\Flight_2_25pct\\tiled\\images\\chip_106.png: 640x640 (no detections), 78.3ms\n",
      "image 11/252 C:\\QGIS\\Flight_2_25pct\\tiled\\images\\chip_107.png: 640x640 (no detections), 79.1ms\n",
      "image 12/252 C:\\QGIS\\Flight_2_25pct\\tiled\\images\\chip_108.png: 640x640 (no detections), 75.9ms\n",
      "image 13/252 C:\\QGIS\\Flight_2_25pct\\tiled\\images\\chip_109.png: 640x640 (no detections), 56.3ms\n",
      "image 14/252 C:\\QGIS\\Flight_2_25pct\\tiled\\images\\chip_11.png: 640x640 (no detections), 51.4ms\n",
      "image 15/252 C:\\QGIS\\Flight_2_25pct\\tiled\\images\\chip_110.png: 640x640 (no detections), 50.5ms\n",
      "image 16/252 C:\\QGIS\\Flight_2_25pct\\tiled\\images\\chip_111.png: 640x640 (no detections), 70.5ms\n",
      "image 17/252 C:\\QGIS\\Flight_2_25pct\\tiled\\images\\chip_112.png: 640x640 (no detections), 55.9ms\n",
      "image 18/252 C:\\QGIS\\Flight_2_25pct\\tiled\\images\\chip_113.png: 640x640 3 Roads, 30 PVegs, 53.9ms\n",
      "image 19/252 C:\\QGIS\\Flight_2_25pct\\tiled\\images\\chip_114.png: 640x640 8 Roads, 53 PVegs, 71.0ms\n",
      "image 20/252 C:\\QGIS\\Flight_2_25pct\\tiled\\images\\chip_115.png: 640x640 258 PVegs, 47.2ms\n",
      "image 21/252 C:\\QGIS\\Flight_2_25pct\\tiled\\images\\chip_116.png: 640x640 192 PVegs, 67.7ms\n",
      "image 22/252 C:\\QGIS\\Flight_2_25pct\\tiled\\images\\chip_117.png: 640x640 300 PVegs, 80.4ms\n",
      "image 23/252 C:\\QGIS\\Flight_2_25pct\\tiled\\images\\chip_118.png: 640x640 300 PVegs, 125.4ms\n",
      "image 24/252 C:\\QGIS\\Flight_2_25pct\\tiled\\images\\chip_119.png: 640x640 300 PVegs, 74.2ms\n",
      "image 25/252 C:\\QGIS\\Flight_2_25pct\\tiled\\images\\chip_12.png: 640x640 (no detections), 81.7ms\n",
      "image 26/252 C:\\QGIS\\Flight_2_25pct\\tiled\\images\\chip_120.png: 640x640 25 PVegs, 79.8ms\n",
      "image 27/252 C:\\QGIS\\Flight_2_25pct\\tiled\\images\\chip_121.png: 640x640 (no detections), 77.8ms\n",
      "image 28/252 C:\\QGIS\\Flight_2_25pct\\tiled\\images\\chip_122.png: 640x640 (no detections), 81.7ms\n",
      "image 29/252 C:\\QGIS\\Flight_2_25pct\\tiled\\images\\chip_123.png: 640x640 (no detections), 80.3ms\n",
      "image 30/252 C:\\QGIS\\Flight_2_25pct\\tiled\\images\\chip_124.png: 640x640 (no detections), 74.8ms\n",
      "image 31/252 C:\\QGIS\\Flight_2_25pct\\tiled\\images\\chip_125.png: 640x640 (no detections), 62.7ms\n",
      "image 32/252 C:\\QGIS\\Flight_2_25pct\\tiled\\images\\chip_126.png: 640x640 (no detections), 72.9ms\n",
      "image 33/252 C:\\QGIS\\Flight_2_25pct\\tiled\\images\\chip_127.png: 640x640 (no detections), 55.1ms\n",
      "image 34/252 C:\\QGIS\\Flight_2_25pct\\tiled\\images\\chip_128.png: 640x640 (no detections), 73.2ms\n",
      "image 35/252 C:\\QGIS\\Flight_2_25pct\\tiled\\images\\chip_129.png: 640x640 (no detections), 51.5ms\n",
      "image 36/252 C:\\QGIS\\Flight_2_25pct\\tiled\\images\\chip_13.png: 640x640 (no detections), 70.3ms\n",
      "image 37/252 C:\\QGIS\\Flight_2_25pct\\tiled\\images\\chip_130.png: 640x640 6 Roads, 19 PVegs, 71.3ms\n",
      "image 38/252 C:\\QGIS\\Flight_2_25pct\\tiled\\images\\chip_131.png: 640x640 8 Roads, 87 PVegs, 69.9ms\n",
      "image 39/252 C:\\QGIS\\Flight_2_25pct\\tiled\\images\\chip_132.png: 640x640 205 PVegs, 69.7ms\n",
      "image 40/252 C:\\QGIS\\Flight_2_25pct\\tiled\\images\\chip_133.png: 640x640 219 PVegs, 67.0ms\n",
      "image 41/252 C:\\QGIS\\Flight_2_25pct\\tiled\\images\\chip_134.png: 640x640 300 PVegs, 79.0ms\n",
      "image 42/252 C:\\QGIS\\Flight_2_25pct\\tiled\\images\\chip_135.png: 640x640 299 PVegs, 112.6ms\n",
      "image 43/252 C:\\QGIS\\Flight_2_25pct\\tiled\\images\\chip_136.png: 640x640 100 PVegs, 64.9ms\n",
      "image 44/252 C:\\QGIS\\Flight_2_25pct\\tiled\\images\\chip_137.png: 640x640 (no detections), 71.5ms\n",
      "image 45/252 C:\\QGIS\\Flight_2_25pct\\tiled\\images\\chip_138.png: 640x640 (no detections), 71.6ms\n",
      "image 46/252 C:\\QGIS\\Flight_2_25pct\\tiled\\images\\chip_139.png: 640x640 (no detections), 69.0ms\n",
      "image 47/252 C:\\QGIS\\Flight_2_25pct\\tiled\\images\\chip_14.png: 640x640 6 PVegs, 64.8ms\n",
      "image 48/252 C:\\QGIS\\Flight_2_25pct\\tiled\\images\\chip_140.png: 640x640 (no detections), 78.2ms\n",
      "image 49/252 C:\\QGIS\\Flight_2_25pct\\tiled\\images\\chip_141.png: 640x640 (no detections), 77.1ms\n",
      "image 50/252 C:\\QGIS\\Flight_2_25pct\\tiled\\images\\chip_142.png: 640x640 (no detections), 77.0ms\n",
      "image 51/252 C:\\QGIS\\Flight_2_25pct\\tiled\\images\\chip_143.png: 640x640 (no detections), 59.2ms\n",
      "image 52/252 C:\\QGIS\\Flight_2_25pct\\tiled\\images\\chip_144.png: 640x640 (no detections), 70.9ms\n",
      "image 53/252 C:\\QGIS\\Flight_2_25pct\\tiled\\images\\chip_145.png: 640x640 (no detections), 54.2ms\n",
      "image 54/252 C:\\QGIS\\Flight_2_25pct\\tiled\\images\\chip_146.png: 640x640 (no detections), 50.2ms\n",
      "image 55/252 C:\\QGIS\\Flight_2_25pct\\tiled\\images\\chip_147.png: 640x640 4 Roads, 104 PVegs, 75.9ms\n",
      "image 56/252 C:\\QGIS\\Flight_2_25pct\\tiled\\images\\chip_148.png: 640x640 7 Roads, 178 PVegs, 67.8ms\n",
      "image 57/252 C:\\QGIS\\Flight_2_25pct\\tiled\\images\\chip_149.png: 640x640 246 PVegs, 78.3ms\n",
      "image 58/252 C:\\QGIS\\Flight_2_25pct\\tiled\\images\\chip_15.png: 640x640 5 PVegs, 77.7ms\n",
      "image 59/252 C:\\QGIS\\Flight_2_25pct\\tiled\\images\\chip_150.png: 640x640 199 PVegs, 74.4ms\n",
      "image 60/252 C:\\QGIS\\Flight_2_25pct\\tiled\\images\\chip_151.png: 640x640 165 PVegs, 73.3ms\n",
      "image 61/252 C:\\QGIS\\Flight_2_25pct\\tiled\\images\\chip_152.png: 640x640 299 PVegs, 66.1ms\n",
      "image 62/252 C:\\QGIS\\Flight_2_25pct\\tiled\\images\\chip_153.png: 640x640 22 PVegs, 82.9ms\n",
      "image 63/252 C:\\QGIS\\Flight_2_25pct\\tiled\\images\\chip_154.png: 640x640 (no detections), 72.8ms\n",
      "image 64/252 C:\\QGIS\\Flight_2_25pct\\tiled\\images\\chip_155.png: 640x640 (no detections), 77.0ms\n",
      "image 65/252 C:\\QGIS\\Flight_2_25pct\\tiled\\images\\chip_156.png: 640x640 (no detections), 81.4ms\n",
      "image 66/252 C:\\QGIS\\Flight_2_25pct\\tiled\\images\\chip_157.png: 640x640 (no detections), 53.4ms\n",
      "image 67/252 C:\\QGIS\\Flight_2_25pct\\tiled\\images\\chip_158.png: 640x640 (no detections), 74.4ms\n",
      "image 68/252 C:\\QGIS\\Flight_2_25pct\\tiled\\images\\chip_159.png: 640x640 (no detections), 75.4ms\n",
      "image 69/252 C:\\QGIS\\Flight_2_25pct\\tiled\\images\\chip_16.png: 640x640 152 PVegs, 51.9ms\n",
      "image 70/252 C:\\QGIS\\Flight_2_25pct\\tiled\\images\\chip_160.png: 640x640 (no detections), 65.4ms\n",
      "image 71/252 C:\\QGIS\\Flight_2_25pct\\tiled\\images\\chip_161.png: 640x640 (no detections), 37.3ms\n",
      "image 72/252 C:\\QGIS\\Flight_2_25pct\\tiled\\images\\chip_162.png: 640x640 (no detections), 66.6ms\n",
      "image 73/252 C:\\QGIS\\Flight_2_25pct\\tiled\\images\\chip_163.png: 640x640 (no detections), 64.7ms\n",
      "image 74/252 C:\\QGIS\\Flight_2_25pct\\tiled\\images\\chip_164.png: 640x640 5 Roads, 38 PVegs, 46.3ms\n",
      "image 75/252 C:\\QGIS\\Flight_2_25pct\\tiled\\images\\chip_165.png: 640x640 8 Roads, 196 PVegs, 71.0ms\n",
      "image 76/252 C:\\QGIS\\Flight_2_25pct\\tiled\\images\\chip_166.png: 640x640 284 PVegs, 67.1ms\n",
      "image 77/252 C:\\QGIS\\Flight_2_25pct\\tiled\\images\\chip_167.png: 640x640 286 PVegs, 74.9ms\n",
      "image 78/252 C:\\QGIS\\Flight_2_25pct\\tiled\\images\\chip_168.png: 640x640 208 PVegs, 75.8ms\n",
      "image 79/252 C:\\QGIS\\Flight_2_25pct\\tiled\\images\\chip_169.png: 640x640 299 PVegs, 73.2ms\n",
      "image 80/252 C:\\QGIS\\Flight_2_25pct\\tiled\\images\\chip_17.png: 640x640 83 PVegs, 76.5ms\n",
      "image 81/252 C:\\QGIS\\Flight_2_25pct\\tiled\\images\\chip_170.png: 640x640 14 PVegs, 70.2ms\n",
      "image 82/252 C:\\QGIS\\Flight_2_25pct\\tiled\\images\\chip_171.png: 640x640 (no detections), 50.1ms\n",
      "image 83/252 C:\\QGIS\\Flight_2_25pct\\tiled\\images\\chip_172.png: 640x640 (no detections), 73.1ms\n",
      "image 84/252 C:\\QGIS\\Flight_2_25pct\\tiled\\images\\chip_173.png: 640x640 (no detections), 76.6ms\n",
      "image 85/252 C:\\QGIS\\Flight_2_25pct\\tiled\\images\\chip_174.png: 640x640 (no detections), 57.1ms\n",
      "image 86/252 C:\\QGIS\\Flight_2_25pct\\tiled\\images\\chip_175.png: 640x640 (no detections), 69.5ms\n",
      "image 87/252 C:\\QGIS\\Flight_2_25pct\\tiled\\images\\chip_176.png: 640x640 (no detections), 68.6ms\n",
      "image 88/252 C:\\QGIS\\Flight_2_25pct\\tiled\\images\\chip_177.png: 640x640 (no detections), 99.7ms\n",
      "image 89/252 C:\\QGIS\\Flight_2_25pct\\tiled\\images\\chip_178.png: 640x640 (no detections), 75.9ms\n",
      "image 90/252 C:\\QGIS\\Flight_2_25pct\\tiled\\images\\chip_179.png: 640x640 (no detections), 81.9ms\n",
      "image 91/252 C:\\QGIS\\Flight_2_25pct\\tiled\\images\\chip_18.png: 640x640 (no detections), 54.8ms\n",
      "image 92/252 C:\\QGIS\\Flight_2_25pct\\tiled\\images\\chip_180.png: 640x640 1 PVeg, 51.7ms\n",
      "image 93/252 C:\\QGIS\\Flight_2_25pct\\tiled\\images\\chip_181.png: 640x640 5 Roads, 126 PVegs, 67.0ms\n",
      "image 94/252 C:\\QGIS\\Flight_2_25pct\\tiled\\images\\chip_182.png: 640x640 8 Roads, 242 PVegs, 73.9ms\n",
      "image 95/252 C:\\QGIS\\Flight_2_25pct\\tiled\\images\\chip_183.png: 640x640 191 PVegs, 111.8ms\n",
      "image 96/252 C:\\QGIS\\Flight_2_25pct\\tiled\\images\\chip_184.png: 640x640 205 PVegs, 69.0ms\n",
      "image 97/252 C:\\QGIS\\Flight_2_25pct\\tiled\\images\\chip_185.png: 640x640 117 PVegs, 109.2ms\n",
      "image 98/252 C:\\QGIS\\Flight_2_25pct\\tiled\\images\\chip_186.png: 640x640 247 PVegs, 71.4ms\n",
      "image 99/252 C:\\QGIS\\Flight_2_25pct\\tiled\\images\\chip_187.png: 640x640 47 PVegs, 107.9ms\n",
      "image 100/252 C:\\QGIS\\Flight_2_25pct\\tiled\\images\\chip_188.png: 640x640 (no detections), 78.7ms\n",
      "image 101/252 C:\\QGIS\\Flight_2_25pct\\tiled\\images\\chip_189.png: 640x640 (no detections), 50.9ms\n",
      "image 102/252 C:\\QGIS\\Flight_2_25pct\\tiled\\images\\chip_19.png: 640x640 (no detections), 59.1ms\n",
      "image 103/252 C:\\QGIS\\Flight_2_25pct\\tiled\\images\\chip_190.png: 640x640 (no detections), 52.5ms\n",
      "image 104/252 C:\\QGIS\\Flight_2_25pct\\tiled\\images\\chip_191.png: 640x640 (no detections), 80.6ms\n",
      "image 105/252 C:\\QGIS\\Flight_2_25pct\\tiled\\images\\chip_192.png: 640x640 (no detections), 76.4ms\n",
      "image 106/252 C:\\QGIS\\Flight_2_25pct\\tiled\\images\\chip_193.png: 640x640 (no detections), 58.4ms\n",
      "image 107/252 C:\\QGIS\\Flight_2_25pct\\tiled\\images\\chip_194.png: 640x640 (no detections), 90.5ms\n",
      "image 108/252 C:\\QGIS\\Flight_2_25pct\\tiled\\images\\chip_195.png: 640x640 (no detections), 80.2ms\n",
      "image 109/252 C:\\QGIS\\Flight_2_25pct\\tiled\\images\\chip_196.png: 640x640 (no detections), 76.3ms\n",
      "image 110/252 C:\\QGIS\\Flight_2_25pct\\tiled\\images\\chip_197.png: 640x640 (no detections), 80.9ms\n",
      "image 111/252 C:\\QGIS\\Flight_2_25pct\\tiled\\images\\chip_198.png: 640x640 8 Roads, 29 PVegs, 68.0ms\n",
      "image 112/252 C:\\QGIS\\Flight_2_25pct\\tiled\\images\\chip_199.png: 640x640 9 Roads, 250 PVegs, 80.9ms\n",
      "image 113/252 C:\\QGIS\\Flight_2_25pct\\tiled\\images\\chip_2.png: 640x640 (no detections), 129.2ms\n",
      "image 114/252 C:\\QGIS\\Flight_2_25pct\\tiled\\images\\chip_20.png: 640x640 (no detections), 93.7ms\n",
      "image 115/252 C:\\QGIS\\Flight_2_25pct\\tiled\\images\\chip_200.png: 640x640 78 PVegs, 100.9ms\n",
      "image 116/252 C:\\QGIS\\Flight_2_25pct\\tiled\\images\\chip_201.png: 640x640 156 PVegs, 82.6ms\n",
      "image 117/252 C:\\QGIS\\Flight_2_25pct\\tiled\\images\\chip_202.png: 640x640 175 PVegs, 87.0ms\n",
      "image 118/252 C:\\QGIS\\Flight_2_25pct\\tiled\\images\\chip_203.png: 640x640 274 PVegs, 159.1ms\n",
      "image 119/252 C:\\QGIS\\Flight_2_25pct\\tiled\\images\\chip_204.png: 640x640 118 PVegs, 202.6ms\n",
      "image 120/252 C:\\QGIS\\Flight_2_25pct\\tiled\\images\\chip_205.png: 640x640 (no detections), 82.3ms\n",
      "image 121/252 C:\\QGIS\\Flight_2_25pct\\tiled\\images\\chip_206.png: 640x640 (no detections), 85.8ms\n",
      "image 122/252 C:\\QGIS\\Flight_2_25pct\\tiled\\images\\chip_207.png: 640x640 (no detections), 52.7ms\n",
      "image 123/252 C:\\QGIS\\Flight_2_25pct\\tiled\\images\\chip_208.png: 640x640 (no detections), 76.0ms\n",
      "image 124/252 C:\\QGIS\\Flight_2_25pct\\tiled\\images\\chip_209.png: 640x640 (no detections), 72.6ms\n",
      "image 125/252 C:\\QGIS\\Flight_2_25pct\\tiled\\images\\chip_21.png: 640x640 (no detections), 76.4ms\n",
      "image 126/252 C:\\QGIS\\Flight_2_25pct\\tiled\\images\\chip_210.png: 640x640 (no detections), 78.7ms\n",
      "image 127/252 C:\\QGIS\\Flight_2_25pct\\tiled\\images\\chip_211.png: 640x640 (no detections), 86.6ms\n",
      "image 128/252 C:\\QGIS\\Flight_2_25pct\\tiled\\images\\chip_212.png: 640x640 (no detections), 70.2ms\n",
      "image 129/252 C:\\QGIS\\Flight_2_25pct\\tiled\\images\\chip_213.png: 640x640 (no detections), 86.0ms\n",
      "image 130/252 C:\\QGIS\\Flight_2_25pct\\tiled\\images\\chip_214.png: 640x640 (no detections), 49.8ms\n",
      "image 131/252 C:\\QGIS\\Flight_2_25pct\\tiled\\images\\chip_215.png: 640x640 (no detections), 85.6ms\n",
      "image 132/252 C:\\QGIS\\Flight_2_25pct\\tiled\\images\\chip_216.png: 640x640 9 Roads, 223 PVegs, 53.1ms\n",
      "image 133/252 C:\\QGIS\\Flight_2_25pct\\tiled\\images\\chip_217.png: 640x640 300 PVegs, 202.6ms\n",
      "image 134/252 C:\\QGIS\\Flight_2_25pct\\tiled\\images\\chip_218.png: 640x640 275 PVegs, 127.9ms\n",
      "image 135/252 C:\\QGIS\\Flight_2_25pct\\tiled\\images\\chip_219.png: 640x640 201 PVegs, 153.3ms\n",
      "image 136/252 C:\\QGIS\\Flight_2_25pct\\tiled\\images\\chip_22.png: 640x640 (no detections), 126.1ms\n",
      "image 137/252 C:\\QGIS\\Flight_2_25pct\\tiled\\images\\chip_220.png: 640x640 156 PVegs, 114.8ms\n",
      "image 138/252 C:\\QGIS\\Flight_2_25pct\\tiled\\images\\chip_221.png: 640x640 252 PVegs, 80.7ms\n",
      "image 139/252 C:\\QGIS\\Flight_2_25pct\\tiled\\images\\chip_222.png: 640x640 (no detections), 199.5ms\n",
      "image 140/252 C:\\QGIS\\Flight_2_25pct\\tiled\\images\\chip_223.png: 640x640 (no detections), 73.9ms\n",
      "image 141/252 C:\\QGIS\\Flight_2_25pct\\tiled\\images\\chip_224.png: 640x640 (no detections), 89.7ms\n",
      "image 142/252 C:\\QGIS\\Flight_2_25pct\\tiled\\images\\chip_225.png: 640x640 (no detections), 78.1ms\n",
      "image 143/252 C:\\QGIS\\Flight_2_25pct\\tiled\\images\\chip_226.png: 640x640 (no detections), 90.1ms\n",
      "image 144/252 C:\\QGIS\\Flight_2_25pct\\tiled\\images\\chip_227.png: 640x640 (no detections), 50.0ms\n",
      "image 145/252 C:\\QGIS\\Flight_2_25pct\\tiled\\images\\chip_228.png: 640x640 (no detections), 90.4ms\n",
      "image 146/252 C:\\QGIS\\Flight_2_25pct\\tiled\\images\\chip_229.png: 640x640 (no detections), 49.1ms\n",
      "image 147/252 C:\\QGIS\\Flight_2_25pct\\tiled\\images\\chip_23.png: 640x640 (no detections), 93.9ms\n",
      "image 148/252 C:\\QGIS\\Flight_2_25pct\\tiled\\images\\chip_230.png: 640x640 (no detections), 75.2ms\n",
      "image 149/252 C:\\QGIS\\Flight_2_25pct\\tiled\\images\\chip_231.png: 640x640 (no detections), 90.0ms\n",
      "image 150/252 C:\\QGIS\\Flight_2_25pct\\tiled\\images\\chip_232.png: 640x640 (no detections), 54.1ms\n",
      "image 151/252 C:\\QGIS\\Flight_2_25pct\\tiled\\images\\chip_233.png: 640x640 (no detections), 78.6ms\n",
      "image 152/252 C:\\QGIS\\Flight_2_25pct\\tiled\\images\\chip_234.png: 640x640 266 PVegs, 51.4ms\n",
      "image 153/252 C:\\QGIS\\Flight_2_25pct\\tiled\\images\\chip_235.png: 640x640 300 PVegs, 196.9ms\n",
      "image 154/252 C:\\QGIS\\Flight_2_25pct\\tiled\\images\\chip_236.png: 640x640 241 PVegs, 131.6ms\n",
      "image 155/252 C:\\QGIS\\Flight_2_25pct\\tiled\\images\\chip_237.png: 640x640 181 PVegs, 204.3ms\n",
      "image 156/252 C:\\QGIS\\Flight_2_25pct\\tiled\\images\\chip_238.png: 640x640 44 PVegs, 52.7ms\n",
      "image 157/252 C:\\QGIS\\Flight_2_25pct\\tiled\\images\\chip_239.png: 640x640 (no detections), 96.7ms\n",
      "image 158/252 C:\\QGIS\\Flight_2_25pct\\tiled\\images\\chip_24.png: 640x640 (no detections), 75.8ms\n",
      "image 159/252 C:\\QGIS\\Flight_2_25pct\\tiled\\images\\chip_240.png: 640x640 (no detections), 90.8ms\n",
      "image 160/252 C:\\QGIS\\Flight_2_25pct\\tiled\\images\\chip_241.png: 640x640 (no detections), 49.9ms\n",
      "image 161/252 C:\\QGIS\\Flight_2_25pct\\tiled\\images\\chip_242.png: 640x640 (no detections), 86.1ms\n",
      "image 162/252 C:\\QGIS\\Flight_2_25pct\\tiled\\images\\chip_243.png: 640x640 (no detections), 81.3ms\n",
      "image 163/252 C:\\QGIS\\Flight_2_25pct\\tiled\\images\\chip_244.png: 640x640 (no detections), 95.4ms\n",
      "image 164/252 C:\\QGIS\\Flight_2_25pct\\tiled\\images\\chip_245.png: 640x640 (no detections), 74.5ms\n",
      "image 165/252 C:\\QGIS\\Flight_2_25pct\\tiled\\images\\chip_246.png: 640x640 (no detections), 90.1ms\n",
      "image 166/252 C:\\QGIS\\Flight_2_25pct\\tiled\\images\\chip_247.png: 640x640 (no detections), 71.1ms\n",
      "image 167/252 C:\\QGIS\\Flight_2_25pct\\tiled\\images\\chip_248.png: 640x640 (no detections), 80.3ms\n",
      "image 168/252 C:\\QGIS\\Flight_2_25pct\\tiled\\images\\chip_249.png: 640x640 (no detections), 49.4ms\n",
      "image 169/252 C:\\QGIS\\Flight_2_25pct\\tiled\\images\\chip_25.png: 640x640 (no detections), 79.9ms\n",
      "image 170/252 C:\\QGIS\\Flight_2_25pct\\tiled\\images\\chip_250.png: 640x640 (no detections), 73.9ms\n",
      "image 171/252 C:\\QGIS\\Flight_2_25pct\\tiled\\images\\chip_251.png: 640x640 (no detections), 79.1ms\n",
      "image 172/252 C:\\QGIS\\Flight_2_25pct\\tiled\\images\\chip_26.png: 640x640 (no detections), 98.4ms\n",
      "image 173/252 C:\\QGIS\\Flight_2_25pct\\tiled\\images\\chip_27.png: 640x640 (no detections), 87.3ms\n",
      "image 174/252 C:\\QGIS\\Flight_2_25pct\\tiled\\images\\chip_28.png: 640x640 (no detections), 76.0ms\n",
      "image 175/252 C:\\QGIS\\Flight_2_25pct\\tiled\\images\\chip_29.png: 640x640 (no detections), 75.4ms\n",
      "image 176/252 C:\\QGIS\\Flight_2_25pct\\tiled\\images\\chip_3.png: 640x640 (no detections), 78.6ms\n",
      "image 177/252 C:\\QGIS\\Flight_2_25pct\\tiled\\images\\chip_30.png: 640x640 41 PVegs, 76.1ms\n",
      "image 178/252 C:\\QGIS\\Flight_2_25pct\\tiled\\images\\chip_31.png: 640x640 135 PVegs, 67.7ms\n",
      "image 179/252 C:\\QGIS\\Flight_2_25pct\\tiled\\images\\chip_32.png: 640x640 300 PVegs, 92.1ms\n",
      "image 180/252 C:\\QGIS\\Flight_2_25pct\\tiled\\images\\chip_33.png: 640x640 300 PVegs, 136.2ms\n",
      "image 181/252 C:\\QGIS\\Flight_2_25pct\\tiled\\images\\chip_34.png: 640x640 184 PVegs, 215.7ms\n",
      "image 182/252 C:\\QGIS\\Flight_2_25pct\\tiled\\images\\chip_35.png: 640x640 210 PVegs, 132.6ms\n",
      "image 183/252 C:\\QGIS\\Flight_2_25pct\\tiled\\images\\chip_36.png: 640x640 (no detections), 193.1ms\n",
      "image 184/252 C:\\QGIS\\Flight_2_25pct\\tiled\\images\\chip_37.png: 640x640 (no detections), 51.1ms\n",
      "image 185/252 C:\\QGIS\\Flight_2_25pct\\tiled\\images\\chip_38.png: 640x640 (no detections), 108.3ms\n",
      "image 186/252 C:\\QGIS\\Flight_2_25pct\\tiled\\images\\chip_39.png: 640x640 (no detections), 49.5ms\n",
      "image 187/252 C:\\QGIS\\Flight_2_25pct\\tiled\\images\\chip_4.png: 640x640 (no detections), 97.2ms\n",
      "image 188/252 C:\\QGIS\\Flight_2_25pct\\tiled\\images\\chip_40.png: 640x640 (no detections), 75.2ms\n",
      "image 189/252 C:\\QGIS\\Flight_2_25pct\\tiled\\images\\chip_41.png: 640x640 (no detections), 92.7ms\n",
      "image 190/252 C:\\QGIS\\Flight_2_25pct\\tiled\\images\\chip_42.png: 640x640 (no detections), 80.5ms\n",
      "image 191/252 C:\\QGIS\\Flight_2_25pct\\tiled\\images\\chip_43.png: 640x640 (no detections), 92.9ms\n",
      "image 192/252 C:\\QGIS\\Flight_2_25pct\\tiled\\images\\chip_44.png: 640x640 (no detections), 75.1ms\n",
      "image 193/252 C:\\QGIS\\Flight_2_25pct\\tiled\\images\\chip_45.png: 640x640 (no detections), 80.4ms\n",
      "image 194/252 C:\\QGIS\\Flight_2_25pct\\tiled\\images\\chip_46.png: 640x640 9 Roads, 28 PVegs, 50.0ms\n",
      "image 195/252 C:\\QGIS\\Flight_2_25pct\\tiled\\images\\chip_47.png: 640x640 5 Roads, 42 PVegs, 90.8ms\n",
      "image 196/252 C:\\QGIS\\Flight_2_25pct\\tiled\\images\\chip_48.png: 640x640 75 PVegs, 82.2ms\n",
      "image 197/252 C:\\QGIS\\Flight_2_25pct\\tiled\\images\\chip_49.png: 640x640 196 PVegs, 77.8ms\n",
      "image 198/252 C:\\QGIS\\Flight_2_25pct\\tiled\\images\\chip_5.png: 640x640 (no detections), 80.7ms\n",
      "image 199/252 C:\\QGIS\\Flight_2_25pct\\tiled\\images\\chip_50.png: 640x640 300 PVegs, 152.2ms\n",
      "image 200/252 C:\\QGIS\\Flight_2_25pct\\tiled\\images\\chip_51.png: 640x640 276 PVegs, 101.3ms\n",
      "image 201/252 C:\\QGIS\\Flight_2_25pct\\tiled\\images\\chip_52.png: 640x640 225 PVegs, 156.8ms\n",
      "image 202/252 C:\\QGIS\\Flight_2_25pct\\tiled\\images\\chip_53.png: 640x640 234 PVegs, 69.3ms\n",
      "image 203/252 C:\\QGIS\\Flight_2_25pct\\tiled\\images\\chip_54.png: 640x640 (no detections), 155.8ms\n",
      "image 204/252 C:\\QGIS\\Flight_2_25pct\\tiled\\images\\chip_55.png: 640x640 (no detections), 66.3ms\n",
      "image 205/252 C:\\QGIS\\Flight_2_25pct\\tiled\\images\\chip_56.png: 640x640 (no detections), 62.6ms\n",
      "image 206/252 C:\\QGIS\\Flight_2_25pct\\tiled\\images\\chip_57.png: 640x640 (no detections), 68.0ms\n",
      "image 207/252 C:\\QGIS\\Flight_2_25pct\\tiled\\images\\chip_58.png: 640x640 (no detections), 59.9ms\n",
      "image 208/252 C:\\QGIS\\Flight_2_25pct\\tiled\\images\\chip_59.png: 640x640 (no detections), 68.0ms\n",
      "image 209/252 C:\\QGIS\\Flight_2_25pct\\tiled\\images\\chip_6.png: 640x640 (no detections), 73.0ms\n",
      "image 210/252 C:\\QGIS\\Flight_2_25pct\\tiled\\images\\chip_60.png: 640x640 (no detections), 67.8ms\n",
      "image 211/252 C:\\QGIS\\Flight_2_25pct\\tiled\\images\\chip_61.png: 640x640 (no detections), 60.4ms\n",
      "image 212/252 C:\\QGIS\\Flight_2_25pct\\tiled\\images\\chip_62.png: 640x640 8 Roads, 32 PVegs, 67.4ms\n",
      "image 213/252 C:\\QGIS\\Flight_2_25pct\\tiled\\images\\chip_63.png: 640x640 13 Roads, 60 PVegs, 73.2ms\n",
      "image 214/252 C:\\QGIS\\Flight_2_25pct\\tiled\\images\\chip_64.png: 640x640 6 Roads, 237 PVegs, 66.8ms\n",
      "image 215/252 C:\\QGIS\\Flight_2_25pct\\tiled\\images\\chip_65.png: 640x640 207 PVegs, 158.1ms\n",
      "image 216/252 C:\\QGIS\\Flight_2_25pct\\tiled\\images\\chip_66.png: 640x640 161 PVegs, 97.1ms\n",
      "image 217/252 C:\\QGIS\\Flight_2_25pct\\tiled\\images\\chip_67.png: 640x640 199 PVegs, 73.9ms\n",
      "image 218/252 C:\\QGIS\\Flight_2_25pct\\tiled\\images\\chip_68.png: 640x640 134 PVegs, 63.2ms\n",
      "image 219/252 C:\\QGIS\\Flight_2_25pct\\tiled\\images\\chip_69.png: 640x640 300 PVegs, 76.7ms\n",
      "image 220/252 C:\\QGIS\\Flight_2_25pct\\tiled\\images\\chip_7.png: 640x640 (no detections), 98.9ms\n",
      "image 221/252 C:\\QGIS\\Flight_2_25pct\\tiled\\images\\chip_70.png: 640x640 300 PVegs, 159.5ms\n",
      "image 222/252 C:\\QGIS\\Flight_2_25pct\\tiled\\images\\chip_71.png: 640x640 183 PVegs, 96.8ms\n",
      "image 223/252 C:\\QGIS\\Flight_2_25pct\\tiled\\images\\chip_72.png: 640x640 (no detections), 98.9ms\n",
      "image 224/252 C:\\QGIS\\Flight_2_25pct\\tiled\\images\\chip_73.png: 640x640 (no detections), 73.2ms\n",
      "image 225/252 C:\\QGIS\\Flight_2_25pct\\tiled\\images\\chip_74.png: 640x640 (no detections), 65.7ms\n",
      "image 226/252 C:\\QGIS\\Flight_2_25pct\\tiled\\images\\chip_75.png: 640x640 (no detections), 67.6ms\n",
      "image 227/252 C:\\QGIS\\Flight_2_25pct\\tiled\\images\\chip_76.png: 640x640 (no detections), 75.6ms\n",
      "image 228/252 C:\\QGIS\\Flight_2_25pct\\tiled\\images\\chip_77.png: 640x640 (no detections), 71.6ms\n",
      "image 229/252 C:\\QGIS\\Flight_2_25pct\\tiled\\images\\chip_78.png: 640x640 1 PVeg, 61.9ms\n",
      "image 230/252 C:\\QGIS\\Flight_2_25pct\\tiled\\images\\chip_79.png: 640x640 7 Roads, 48 PVegs, 72.5ms\n",
      "image 231/252 C:\\QGIS\\Flight_2_25pct\\tiled\\images\\chip_8.png: 640x640 (no detections), 77.8ms\n",
      "image 232/252 C:\\QGIS\\Flight_2_25pct\\tiled\\images\\chip_80.png: 640x640 5 Roads, 189 PVegs, 66.5ms\n",
      "image 233/252 C:\\QGIS\\Flight_2_25pct\\tiled\\images\\chip_81.png: 640x640 217 PVegs, 76.0ms\n",
      "image 234/252 C:\\QGIS\\Flight_2_25pct\\tiled\\images\\chip_82.png: 640x640 300 PVegs, 111.0ms\n",
      "image 235/252 C:\\QGIS\\Flight_2_25pct\\tiled\\images\\chip_83.png: 640x640 264 PVegs, 194.9ms\n",
      "image 236/252 C:\\QGIS\\Flight_2_25pct\\tiled\\images\\chip_84.png: 640x640 262 PVegs, 122.4ms\n",
      "image 237/252 C:\\QGIS\\Flight_2_25pct\\tiled\\images\\chip_85.png: 640x640 300 PVegs, 191.2ms\n",
      "image 238/252 C:\\QGIS\\Flight_2_25pct\\tiled\\images\\chip_86.png: 640x640 243 PVegs, 118.7ms\n",
      "image 239/252 C:\\QGIS\\Flight_2_25pct\\tiled\\images\\chip_87.png: 640x640 256 PVegs, 172.0ms\n",
      "image 240/252 C:\\QGIS\\Flight_2_25pct\\tiled\\images\\chip_88.png: 640x640 164 PVegs, 113.4ms\n",
      "image 241/252 C:\\QGIS\\Flight_2_25pct\\tiled\\images\\chip_89.png: 640x640 5 PVegs, 72.9ms\n",
      "image 242/252 C:\\QGIS\\Flight_2_25pct\\tiled\\images\\chip_9.png: 640x640 (no detections), 65.0ms\n",
      "image 243/252 C:\\QGIS\\Flight_2_25pct\\tiled\\images\\chip_90.png: 640x640 (no detections), 68.0ms\n",
      "image 244/252 C:\\QGIS\\Flight_2_25pct\\tiled\\images\\chip_91.png: 640x640 (no detections), 66.8ms\n",
      "image 245/252 C:\\QGIS\\Flight_2_25pct\\tiled\\images\\chip_92.png: 640x640 (no detections), 66.8ms\n",
      "image 246/252 C:\\QGIS\\Flight_2_25pct\\tiled\\images\\chip_93.png: 640x640 (no detections), 64.9ms\n",
      "image 247/252 C:\\QGIS\\Flight_2_25pct\\tiled\\images\\chip_94.png: 640x640 (no detections), 66.3ms\n",
      "image 248/252 C:\\QGIS\\Flight_2_25pct\\tiled\\images\\chip_95.png: 640x640 6 PVegs, 65.2ms\n",
      "image 249/252 C:\\QGIS\\Flight_2_25pct\\tiled\\images\\chip_96.png: 640x640 4 Roads, 40 PVegs, 90.2ms\n",
      "image 250/252 C:\\QGIS\\Flight_2_25pct\\tiled\\images\\chip_97.png: 640x640 9 Roads, 146 PVegs, 89.9ms\n",
      "image 251/252 C:\\QGIS\\Flight_2_25pct\\tiled\\images\\chip_98.png: 640x640 231 PVegs, 87.1ms\n",
      "image 252/252 C:\\QGIS\\Flight_2_25pct\\tiled\\images\\chip_99.png: 640x640 189 PVegs, 161.3ms\n",
      "Speed: 11.7ms preprocess, 84.0ms inference, 167.8ms postprocess per image at shape (1, 3, 640, 640)\n",
      "Results saved to \u001b[1mC:\\QGIS\\Flight_2_25pct\\predictions\\predict_txt\u001b[0m\n",
      "105 labels saved to C:\\QGIS\\Flight_2_25pct\\predictions\\predict_txt\\labels\n",
      "✅ Inference complete. Check: C:/QGIS\\Flight_2_25pct\\predictions/predict_txt/labels/\n"
     ]
    }
   ],
   "source": [
    "# -----------------------------------------------------------\n",
    "# 🤖 Inference: Run YOLOv8 Segmentation on Tiled Map Images\n",
    "#\n",
    "# This step uses a trained YOLOv8 segmentation model to:\n",
    "# - Predict object masks for each 1024×1024 tile image\n",
    "# - Save polygon .txt files (YOLO format)\n",
    "# - Optionally save visualized overlays\n",
    "#\n",
    "# It processes all tiles from the specified map folder:\n",
    "# - /[Map Folder]/tiled/images/\n",
    "# and outputs:\n",
    "# - Polygon .txt labels to: /[Map Folder]/predictions/predict_txt/labels/\n",
    "# - Optional .jpg overlays to: /[Map Folder]/predictions/predict_txt/images/\n",
    "#\n",
    "# Classes:\n",
    "#     • 0 = Water\n",
    "#     • 1 = Road\n",
    "#     • 2 = PVeg (Perennial Vegetation)\n",
    "#\n",
    "# Parameters:\n",
    "# - imgsz: Image size used during training (e.g. 640)\n",
    "# - conf: Confidence threshold (e.g. 0.1 for permissive detection)\n",
    "# - retina_masks: True for high-quality mask rendering\n",
    "# - save_txt: Enables saving polygon .txt files (for reconstruction)\n",
    "#\n",
    "# Output:\n",
    "# - One .txt polygon label file per tile (normalized coordinates)\n",
    "# - Used in downstream mask and shapefile generation\n",
    "#\n",
    "# Notes:\n",
    "# - This step does not create mask images directly, but polygon .txt labels\n",
    "# - Masks are generated in the following step by rasterizing these polygons\n",
    "# - Use consistent `imgsz` and class mapping with training\n",
    "# -----------------------------------------------------------\n",
    "\n",
    "from ultralytics import YOLO\n",
    "import torch\n",
    "import os\n",
    "\n",
    "# --- Config ---\n",
    "map_folder = \"Flight_2_25pct\"\n",
    "base_dir = \"C:/QGIS\"\n",
    "image_dir = os.path.join(base_dir, map_folder, \"tiled\", \"images\")\n",
    "\n",
    "output_name = \"predict_txt\"\n",
    "output_dir = os.path.join(base_dir, map_folder, \"predictions\")\n",
    "\n",
    "# --- Load model ---\n",
    "model_path = os.path.join(base_dir, \"runs\", \"segment\", \"train\", \"main_model9\", \"weights\", \"best.pt\")\n",
    "model = YOLO(model_path)\n",
    "\n",
    "# --- Predict with manageable size ---\n",
    "model.predict(\n",
    "    source=image_dir,\n",
    "    imgsz=640,  # Lower if needed: 640, 768, etc.\n",
    "    conf=0.01,\n",
    "    save=False,\n",
    "    save_txt=True,\n",
    "    save_conf=False,\n",
    "    retina_masks=False,\n",
    "    name=output_name,\n",
    "    project=output_dir,\n",
    "    device=\"cuda\" if torch.cuda.is_available() else \"cpu\"\n",
    ")\n",
    "\n",
    "print(f\"✅ Inference complete. Check: {output_dir}/{output_name}/labels/\")"
   ]
  },
  {
   "cell_type": "code",
   "execution_count": 4,
   "id": "c90b7d2a-c62e-4db2-b622-ed333a00912a",
   "metadata": {},
   "outputs": [
    {
     "name": "stderr",
     "output_type": "stream",
     "text": [
      "Stitching Tiles: 100%|███████████████████████████████████████████████████████████████| 252/252 [08:50<00:00,  2.10s/it]\n"
     ]
    },
    {
     "name": "stdout",
     "output_type": "stream",
     "text": [
      "✅ Shapefile saved to: C:/QGIS/Flight_2_25pct\\Flight_2_25pct Segmentation.shp\n"
     ]
    }
   ],
   "source": [
    "# -----------------------------------------------------------\n",
    "# 🗺️ Final Map Output: Generate Georeferenced Shapefile from Predicted Masks\n",
    "# -----------------------------------------------------------\n",
    "\n",
    "import os\n",
    "import cv2\n",
    "import numpy as np\n",
    "import pandas as pd\n",
    "import geopandas as gpd\n",
    "from shapely.geometry import Polygon\n",
    "import rasterio\n",
    "from tqdm import tqdm\n",
    "\n",
    "# --- Config ---\n",
    "map_folder = \"Flight_2_25pct\"\n",
    "base_dir = f\"C:/QGIS/{map_folder}\"\n",
    "mask_dir = os.path.join(base_dir, \"predictions\", \"predict_txt\", \"labels\")\n",
    "tile_metadata_path = os.path.join(base_dir, \"tiled\", \"tile_metadata.csv\")\n",
    "raster_shape_path = os.path.join(base_dir, \"tiled\", \"raster_shape.txt\")\n",
    "tif_path = os.path.join(base_dir, f\"{map_folder}.tiff\")\n",
    "shapefile_path = os.path.join(base_dir, f\"{map_folder} Segmentation.shp\")\n",
    "\n",
    "chip_size = 1600        # Original chip size used during tiling\n",
    "inference_size = 640    # Size used during YOLOv8 inference\n",
    "\n",
    "# --- Load metadata and raster georeferencing ---\n",
    "tile_meta = pd.read_csv(tile_metadata_path)\n",
    "with open(raster_shape_path, \"r\") as f:\n",
    "    height, width = map(int, f.read().strip().split(\",\"))\n",
    "\n",
    "with rasterio.open(tif_path) as src:\n",
    "    transform = src.transform\n",
    "    crs = src.crs\n",
    "\n",
    "# --- Collect all polygons from predicted labels ---\n",
    "features = []\n",
    "\n",
    "for _, row in tqdm(tile_meta.iterrows(), total=len(tile_meta), desc=\"Stitching Tiles\"):\n",
    "    fname, x, y = row[\"filename\"], int(row[\"x\"]), int(row[\"y\"])\n",
    "    label_path = os.path.join(mask_dir, fname.replace(\".png\", \".txt\"))\n",
    "    if not os.path.exists(label_path):\n",
    "        continue\n",
    "\n",
    "    try:\n",
    "        with open(label_path, \"r\") as f:\n",
    "            lines = f.readlines()\n",
    "    except:\n",
    "        continue\n",
    "\n",
    "    for line in lines:\n",
    "        parts = line.strip().split()\n",
    "        if len(parts) < 7:\n",
    "            continue  # Skip degenerate polygons\n",
    "\n",
    "        cls_id = int(float(parts[0]))\n",
    "        coords = list(map(float, parts[1:]))\n",
    "\n",
    "        pts = np.array(coords, dtype=np.float32).reshape(-1, 2)\n",
    "        pts *= chip_size  # Scale to original chip size (not inference size)\n",
    "\n",
    "        # Offset to global pixel coordinates\n",
    "        pts[:, 0] += x\n",
    "        pts[:, 1] += y\n",
    "\n",
    "        # Convert pixel to geographic coordinates\n",
    "        geo_pts = [rasterio.transform.xy(transform, y_, x_, offset='center') for x_, y_ in pts]\n",
    "        poly = Polygon(geo_pts)\n",
    "\n",
    "        if poly.is_valid and poly.area > 0:\n",
    "            features.append({\n",
    "                \"geometry\": poly,\n",
    "                \"class_id\": cls_id\n",
    "            })\n",
    "\n",
    "# --- Export to shapefile ---\n",
    "gdf = gpd.GeoDataFrame(features, crs=crs)\n",
    "gdf.to_file(shapefile_path)\n",
    "\n",
    "print(f\"✅ Shapefile saved to: {shapefile_path}\")"
   ]
  },
  {
   "cell_type": "code",
   "execution_count": null,
   "id": "2c2b9cb6-737a-46a2-bbf1-e0197924c98d",
   "metadata": {},
   "outputs": [],
   "source": []
  }
 ],
 "metadata": {
  "kernelspec": {
   "display_name": "Python 3 (ipykernel)",
   "language": "python",
   "name": "python3"
  },
  "language_info": {
   "codemirror_mode": {
    "name": "ipython",
    "version": 3
   },
   "file_extension": ".py",
   "mimetype": "text/x-python",
   "name": "python",
   "nbconvert_exporter": "python",
   "pygments_lexer": "ipython3",
   "version": "3.10.16"
  }
 },
 "nbformat": 4,
 "nbformat_minor": 5
}
